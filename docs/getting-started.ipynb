{
 "cells": [
  {
   "cell_type": "markdown",
   "metadata": {},
   "source": [
    "# Getting started with Xanthus\n",
    "\n",
    "## What is Xanthus?\n",
    "\n",
    "Xanthus is a Neural Recommender package written in Python. It started life as a personal project to take an academic ML paper and translate it into a 'production-ready' software package and to replicate the results of the paper along the way. It uses Tensorflow 2.0 under the hood, and makes extensive use of the Keras API. If you're interested, the original authors of [the paper that inspired this project]() provided code for their experiments, and this proved valuable when starting this project. \n",
    "\n",
    "However, while it is great that they provided their code, the repository isn't maintained, the code uses an old versions of Keras (and Theano!), it can be a little hard for beginners to get to grips with, and it's very much tailored to produce the results in their paper. All fair enough, they wrote a great paper and published their workings. Admirable stuff. Xanthus aims to make it super easy to get started with the work of building a neural recommendation system, and to scale the techniques in the original paper (hopefully) gracefully with you as the complexity of your applications increase.\n",
    "\n",
    "This notebook will walk you through a basic example of using Xanthus to predict previously unseen movies to a set of users using the classic 'Movielens' recommender dataset. The [original paper]() tests the architectures in this paper as part of an _implicit_ recommendation problem. You'll find out more about what this means later in the notebook. In the meantime, it is worth remembering that the examples in this notebook make the same assumption.\n",
    "\n",
    "Ready for some code?\n",
    "\n",
    "## Loading a sample dataset\n",
    "\n",
    "Ah, the beginning of a brand new ML problem. You'll need to download the dataset first. You can use the Xanthus `download.movielens` utility to download, unzip and save your Movielens data."
   ]
  },
  {
   "cell_type": "code",
   "execution_count": 2,
   "metadata": {},
   "outputs": [],
   "source": [
    "from xanthus.datasets import download\n",
    "\n",
    "download.movielens(version=\"latest-small\", output_dir=\"data\")"
   ]
  },
  {
   "cell_type": "markdown",
   "metadata": {},
   "source": [
    "Time to crack out Pandas and load some CSVs. You know the drill. "
   ]
  },
  {
   "cell_type": "code",
   "execution_count": 5,
   "metadata": {},
   "outputs": [],
   "source": [
    "import pandas as pd\n",
    "\n",
    "ratings = pd.read_csv(\"data/ml-latest-small/ratings.csv\")\n",
    "movies = pd.read_csv(\"data/ml-latest-small/movies.csv\")"
   ]
  },
  {
   "cell_type": "markdown",
   "metadata": {},
   "source": [
    "Let's take a look at the data we've loaded. Here's the movies dataset:"
   ]
  },
  {
   "cell_type": "code",
   "execution_count": 6,
   "metadata": {},
   "outputs": [
    {
     "data": {
      "text/html": [
       "<div>\n",
       "<style scoped>\n",
       "    .dataframe tbody tr th:only-of-type {\n",
       "        vertical-align: middle;\n",
       "    }\n",
       "\n",
       "    .dataframe tbody tr th {\n",
       "        vertical-align: top;\n",
       "    }\n",
       "\n",
       "    .dataframe thead th {\n",
       "        text-align: right;\n",
       "    }\n",
       "</style>\n",
       "<table border=\"1\" class=\"dataframe\">\n",
       "  <thead>\n",
       "    <tr style=\"text-align: right;\">\n",
       "      <th></th>\n",
       "      <th>movieId</th>\n",
       "      <th>title</th>\n",
       "      <th>genres</th>\n",
       "    </tr>\n",
       "  </thead>\n",
       "  <tbody>\n",
       "    <tr>\n",
       "      <th>0</th>\n",
       "      <td>1</td>\n",
       "      <td>Toy Story (1995)</td>\n",
       "      <td>Adventure|Animation|Children|Comedy|Fantasy</td>\n",
       "    </tr>\n",
       "    <tr>\n",
       "      <th>1</th>\n",
       "      <td>2</td>\n",
       "      <td>Jumanji (1995)</td>\n",
       "      <td>Adventure|Children|Fantasy</td>\n",
       "    </tr>\n",
       "    <tr>\n",
       "      <th>2</th>\n",
       "      <td>3</td>\n",
       "      <td>Grumpier Old Men (1995)</td>\n",
       "      <td>Comedy|Romance</td>\n",
       "    </tr>\n",
       "    <tr>\n",
       "      <th>3</th>\n",
       "      <td>4</td>\n",
       "      <td>Waiting to Exhale (1995)</td>\n",
       "      <td>Comedy|Drama|Romance</td>\n",
       "    </tr>\n",
       "    <tr>\n",
       "      <th>4</th>\n",
       "      <td>5</td>\n",
       "      <td>Father of the Bride Part II (1995)</td>\n",
       "      <td>Comedy</td>\n",
       "    </tr>\n",
       "  </tbody>\n",
       "</table>\n",
       "</div>"
      ],
      "text/plain": [
       "   movieId                               title  \\\n",
       "0        1                    Toy Story (1995)   \n",
       "1        2                      Jumanji (1995)   \n",
       "2        3             Grumpier Old Men (1995)   \n",
       "3        4            Waiting to Exhale (1995)   \n",
       "4        5  Father of the Bride Part II (1995)   \n",
       "\n",
       "                                        genres  \n",
       "0  Adventure|Animation|Children|Comedy|Fantasy  \n",
       "1                   Adventure|Children|Fantasy  \n",
       "2                               Comedy|Romance  \n",
       "3                         Comedy|Drama|Romance  \n",
       "4                                       Comedy  "
      ]
     },
     "execution_count": 6,
     "metadata": {},
     "output_type": "execute_result"
    }
   ],
   "source": [
    "movies.head()"
   ]
  },
  {
   "cell_type": "markdown",
   "metadata": {},
   "source": [
    "As you can see, you've got the unique identifier for your movies, the title of the movie in human-readable format, and then the column `genres` that has a string containing a set of associated genres for the given movie. Straightforward enough. And hey, that `genres` column might come in handy at some point...\n",
    "\n",
    "On to the `ratings` frame. Here's what is in there:"
   ]
  },
  {
   "cell_type": "code",
   "execution_count": 7,
   "metadata": {},
   "outputs": [
    {
     "data": {
      "text/html": [
       "<div>\n",
       "<style scoped>\n",
       "    .dataframe tbody tr th:only-of-type {\n",
       "        vertical-align: middle;\n",
       "    }\n",
       "\n",
       "    .dataframe tbody tr th {\n",
       "        vertical-align: top;\n",
       "    }\n",
       "\n",
       "    .dataframe thead th {\n",
       "        text-align: right;\n",
       "    }\n",
       "</style>\n",
       "<table border=\"1\" class=\"dataframe\">\n",
       "  <thead>\n",
       "    <tr style=\"text-align: right;\">\n",
       "      <th></th>\n",
       "      <th>userId</th>\n",
       "      <th>movieId</th>\n",
       "      <th>rating</th>\n",
       "      <th>timestamp</th>\n",
       "    </tr>\n",
       "  </thead>\n",
       "  <tbody>\n",
       "    <tr>\n",
       "      <th>0</th>\n",
       "      <td>1</td>\n",
       "      <td>1</td>\n",
       "      <td>4.0</td>\n",
       "      <td>964982703</td>\n",
       "    </tr>\n",
       "    <tr>\n",
       "      <th>1</th>\n",
       "      <td>1</td>\n",
       "      <td>3</td>\n",
       "      <td>4.0</td>\n",
       "      <td>964981247</td>\n",
       "    </tr>\n",
       "    <tr>\n",
       "      <th>2</th>\n",
       "      <td>1</td>\n",
       "      <td>6</td>\n",
       "      <td>4.0</td>\n",
       "      <td>964982224</td>\n",
       "    </tr>\n",
       "    <tr>\n",
       "      <th>3</th>\n",
       "      <td>1</td>\n",
       "      <td>47</td>\n",
       "      <td>5.0</td>\n",
       "      <td>964983815</td>\n",
       "    </tr>\n",
       "    <tr>\n",
       "      <th>4</th>\n",
       "      <td>1</td>\n",
       "      <td>50</td>\n",
       "      <td>5.0</td>\n",
       "      <td>964982931</td>\n",
       "    </tr>\n",
       "  </tbody>\n",
       "</table>\n",
       "</div>"
      ],
      "text/plain": [
       "   userId  movieId  rating  timestamp\n",
       "0       1        1     4.0  964982703\n",
       "1       1        3     4.0  964981247\n",
       "2       1        6     4.0  964982224\n",
       "3       1       47     5.0  964983815\n",
       "4       1       50     5.0  964982931"
      ]
     },
     "execution_count": 7,
     "metadata": {},
     "output_type": "execute_result"
    }
   ],
   "source": [
    "ratings.head()"
   ]
  },
  {
   "cell_type": "markdown",
   "metadata": {},
   "source": [
    "First up, you've got a `userId` corresponding to the unique user identifier, and you've got the `movieId` corresponding to the unique movie identifier (this maps onto the `movieId` column in the `movies` frame, above). You've also got a `rating` field. This is associated with the user-assigned rating for that movie. Finally, you have the `timestamp` -- the date at which the user rated the movie. For future reference, you can convert from this timestamp to a 'human readable' date with:"
   ]
  },
  {
   "cell_type": "code",
   "execution_count": 8,
   "metadata": {},
   "outputs": [
    {
     "data": {
      "text/plain": [
       "'2000-07-30 19:45:03'"
      ]
     },
     "execution_count": 8,
     "metadata": {},
     "output_type": "execute_result"
    }
   ],
   "source": [
    "from datetime import datetime\n",
    "\n",
    "datetime.fromtimestamp(ratings.iloc[0][\"timestamp\"]).strftime(\"%Y-%m-%d %H:%M:%S\")"
   ]
  },
  {
   "cell_type": "markdown",
   "metadata": {},
   "source": [
    "Thats your freebie for the day. Onto getting the data ready for training your recommender model."
   ]
  },
  {
   "cell_type": "markdown",
   "metadata": {},
   "source": [
    "## Data preparation\n",
    "\n",
    "Xanthus provides a few utilities for getting your recommender up and running. One of the more ubiquitous utilities is the `Dataset` class, and its related `DatasetEncoder` class. At the time of writing, the `Dataset` class assumes your 'ratings' data is in the format `user`, `item`, `rating`. You can rename the sample data to be in this format with:"
   ]
  },
  {
   "cell_type": "code",
   "execution_count": 9,
   "metadata": {},
   "outputs": [],
   "source": [
    "ratings = ratings.rename(columns={\"userId\": \"user\", \"movieId\": \"item\"})"
   ]
  },
  {
   "cell_type": "markdown",
   "metadata": {},
   "source": [
    "Next, you might find it helpful to re-map the movie IDs (now under the `item` column) to be the `titles` in the `movies` frame. This'll make it easier for you to see what the recommender is recommending! Don't do this for big datasets though -- it can get very expensive very quickly! Anyway, remap the `item` column with:"
   ]
  },
  {
   "cell_type": "code",
   "execution_count": 10,
   "metadata": {},
   "outputs": [
    {
     "data": {
      "text/html": [
       "<div>\n",
       "<style scoped>\n",
       "    .dataframe tbody tr th:only-of-type {\n",
       "        vertical-align: middle;\n",
       "    }\n",
       "\n",
       "    .dataframe tbody tr th {\n",
       "        vertical-align: top;\n",
       "    }\n",
       "\n",
       "    .dataframe thead th {\n",
       "        text-align: right;\n",
       "    }\n",
       "</style>\n",
       "<table border=\"1\" class=\"dataframe\">\n",
       "  <thead>\n",
       "    <tr style=\"text-align: right;\">\n",
       "      <th></th>\n",
       "      <th>user</th>\n",
       "      <th>item</th>\n",
       "      <th>rating</th>\n",
       "      <th>timestamp</th>\n",
       "    </tr>\n",
       "  </thead>\n",
       "  <tbody>\n",
       "    <tr>\n",
       "      <th>0</th>\n",
       "      <td>1</td>\n",
       "      <td>Toy Story (1995)</td>\n",
       "      <td>4.0</td>\n",
       "      <td>964982703</td>\n",
       "    </tr>\n",
       "    <tr>\n",
       "      <th>1</th>\n",
       "      <td>1</td>\n",
       "      <td>Grumpier Old Men (1995)</td>\n",
       "      <td>4.0</td>\n",
       "      <td>964981247</td>\n",
       "    </tr>\n",
       "  </tbody>\n",
       "</table>\n",
       "</div>"
      ],
      "text/plain": [
       "   user                     item  rating  timestamp\n",
       "0     1         Toy Story (1995)     4.0  964982703\n",
       "1     1  Grumpier Old Men (1995)     4.0  964981247"
      ]
     },
     "execution_count": 10,
     "metadata": {},
     "output_type": "execute_result"
    }
   ],
   "source": [
    "title_mapping = dict(zip(movies[\"movieId\"], movies[\"title\"]))\n",
    "ratings.loc[:, \"item\"] = ratings[\"item\"].apply(lambda _: title_mapping[_])\n",
    "ratings.head(2)"
   ]
  },
  {
   "cell_type": "markdown",
   "metadata": {},
   "source": [
    "A little more meaningful, eh? For this example, you are going to be looking at _implicit_ recommendations, so should also remove clearly negative rating pairs from the dataset. You can do this with:"
   ]
  },
  {
   "cell_type": "code",
   "execution_count": 11,
   "metadata": {},
   "outputs": [],
   "source": [
    "ratings = ratings[ratings[\"rating\"] > 3.0]"
   ]
  },
  {
   "cell_type": "markdown",
   "metadata": {},
   "source": [
    "### Leave one out protocol\n",
    "\n",
    "As with any ML model, it is important to keep a held-out sample of your dataset to evaluate your model's performance. This is naturally important for recommenders too. However, recommenders differ slightly in that we are often interested in the recommender's ability to _rank_ candidate items in order to surface the most relevant content to a user. Ultimately, the essence of recommendation problems is search, and getting relevant items in the top `n` search results is generally the name of the game -- absolute accuracy can often be a secondary consideration.\n",
    "\n",
    "One common way of evaluating the performance of a recommender model is therefore to create a test set by sampling `n` items from each user's `m` interactions (e.g. movie ratings), keeping `m-n` interactions in the training set and putting the 'left out' `n` samples in the test set. The thought process then goes that when evaluating a model on this test set, you should see the model rank the 'held' out samples more highly in the results (i.e. it has started to learn a user's preferences). \n",
    "\n",
    "The 'leave one out' protocol is a specific case of this approach where `n=1`. Concretely, when creating a test set using 'leave one out', you withold a single interaction from each user and put these in your test set. You then place all other interactions in your training set. To get you going, Xanthus provides a utility function called -- funnily enough -- `leave_one_out` under the `evaluate` subpackage. You can import it and use it as follows:"
   ]
  },
  {
   "cell_type": "code",
   "execution_count": 12,
   "metadata": {},
   "outputs": [],
   "source": [
    "from xanthus.evaluate import leave_one_out\n",
    "\n",
    "train_df, test_df = leave_one_out(ratings, shuffle=True, deduplicate=True)"
   ]
  },
  {
   "cell_type": "markdown",
   "metadata": {},
   "source": [
    "You'll notice that there's a couple of things going on here. Firstly, the function returns the input interactions frame (in this case `ratings`) and splits it into the two datasets as expected. Fair enough. We then have two keyword arguments `shuffle` and `deduplicate`. The argument `shuffle` will -- you guessed it -- shuffle your dataset before sampling interactions for your test set. This is set to `True` by default, so it is shown here for the purpose of being explicit. The second argument is `deduplicate`. This does what you might expect too -- it strips any cases where a user interacts with a specific item more than once (i.e. a given user-item pair appears more than once).\n",
    "\n",
    "As discussed above, the `leave_one_out` function is really a specific version of a more general 'leave `n` out' approach to splitting a dataset. There's also other ways you might want to split datasets for recommendation problems. For many of those circumstances, Xanthus provides a more generic `split` function. This was inspired by Azure's [_Recommender Split_](https://docs.microsoft.com/en-us/azure/machine-learning/studio-module-reference/split-data-using-recommender-split#:~:text=The%20Recommender%20Split%20option%20is,user%2Ditem%2Drating%20triples) method in Azure ML Studio. There are a few important tweaks in the Xanthus implementation, so make sure to check out that functions documentation if you're interested.\n",
    "\n",
    "Anyway, time to build some datasets.\n",
    "\n",
    "## Introducing the `Dataset`\n",
    "\n",
    "Like other ML problems, recommendation problems typically need to create encoded representations of a domain in order to be passed into a model for training and evaluation. However, there's a few aspects of recommendation problems that can make this problem particularly fiddly. To help you on your way, Xanthus provides a few utilities, including the `Dataset` class and the `DatasetEncoder` class. These structures are designed to take care of the fiddliness for you. They'll build your input vectors (including with metadata, if you provide it -- more on that later) and sparse matrices as required. You shouldn't need to touch a thing. \n",
    "\n",
    "Here's how it works. First, your 'train' and 'test' datasets are going to need to share the same encodings, right? Otherwise they'll disagree on whether `Batman Forever (1995)` shares the same encoding across the datasets, and that would be a terrible shame. To create your `DatasetEncoder` you can do this:"
   ]
  },
  {
   "cell_type": "code",
   "execution_count": 13,
   "metadata": {},
   "outputs": [
    {
     "data": {
      "text/plain": [
       "<xanthus.datasets.encoder.DatasetEncoder at 0x128778da0>"
      ]
     },
     "execution_count": 13,
     "metadata": {},
     "output_type": "execute_result"
    }
   ],
   "source": [
    "from xanthus.datasets import DatasetEncoder\n",
    "\n",
    "encoder = DatasetEncoder()\n",
    "encoder.fit(ratings[\"user\"], ratings[\"item\"])"
   ]
  },
  {
   "cell_type": "markdown",
   "metadata": {},
   "source": [
    "This encoder will store all of the unique encodings of every user and item in the `ratings` set. Notice that you're passing in the `ratings` set here, as opposed to either train or test. This makes doubly sure you're creating encodings for every user-item pair in the dataset. To check this has worked, you can call the `transform` method on the encoder like this:"
   ]
  },
  {
   "cell_type": "code",
   "execution_count": 14,
   "metadata": {},
   "outputs": [
    {
     "data": {
      "text/plain": [
       "{'items': array([1694], dtype=int32)}"
      ]
     },
     "execution_count": 14,
     "metadata": {},
     "output_type": "execute_result"
    }
   ],
   "source": [
    "encoder.transform(items=[\"Batman Forever (1995)\"])"
   ]
  },
  {
   "cell_type": "markdown",
   "metadata": {},
   "source": [
    "The naming conventions on the `DatasetEncoder` are deliberately reminicent of the methods on Scikit-Learn encoders, just to help you along with using them. Now you've got your encoder, you can create your `Dataset` objects:"
   ]
  },
  {
   "cell_type": "code",
   "execution_count": 15,
   "metadata": {},
   "outputs": [],
   "source": [
    "from xanthus.datasets import Dataset, utils\n",
    "\n",
    "train_ds = Dataset.from_df(train_df, normalize=utils.as_implicit, encoder=encoder)\n",
    "test_ds = Dataset.from_df(test_df, normalize=utils.as_implicit, encoder=encoder)"
   ]
  },
  {
   "cell_type": "markdown",
   "metadata": {},
   "source": [
    "Let's unpack what's going on here. The `Dataset` class provides the `from_df` class method for quickly constructing a `Dataset` from a 'raw' Pandas `DataFrame`. You want to create a train and test dataset, hence creating two separate `Dataset` objects using this method. Next, you can see that the `encoder` keyword argument is passed in to the `from_df` method. This ensures that each `Dataset` maintains a reference to the _same_ `DatasetEncoder` to ensure consistency when used. The final argument here is `normalize`. This expects a callable object (e.g. a function) that scales the `rating` column (if provided). In the case of this example, the normalization is simply to treat the ratings as an implicit recommendation problem (i.e. all zero or one). The `utils.as_implicit` function simply sets all ratings to one. Simple enough, eh?\n",
    "\n",
    "And that is it for preparing your datasets for modelling, at least for now. Time for some Neural Networks.\n",
    "\n",
    "## Getting neural\n",
    "\n",
    "With your datasets ready, you can build and fit your model. In the example, the `GeneralizedMatrixFactorizationModel` (or `GMFModel`) is used. If you're not sure what a GMF model is, be sure to check out the original paper, and the GMF class itself in the Xanthus docs. Anyway, here's how you set it up: "
   ]
  },
  {
   "cell_type": "code",
   "execution_count": 16,
   "metadata": {},
   "outputs": [],
   "source": [
    "from xanthus.models import GeneralizedMatrixFactorizationModel as GMFModel\n",
    "\n",
    "fit_params = dict(epochs=10, batch_size=256)\n",
    "\n",
    "model = GMFModel(\n",
    "    fit_params=fit_params, n_factors=32, negative_samples=4\n",
    ")"
   ]
  },
  {
   "cell_type": "markdown",
   "metadata": {},
   "source": [
    "What is going on here, you ask? Good question. First, you import the `GeneralizedMatrixFactorizationModel` as any other object. You then define `fit_params` -- fit parameters -- to define the training loop used by the Keras optimizer. All Xanthus neural recommender models inherit from the base `NeuralRecommenderModel` class. By default, this class (and therefore all child classes) utilize the `Adam` optimizer. You can configure this to use any optimizer you wish though!\n",
    "\n",
    "After the `fit_param`, the `GeneralizedMatrixFactorizationModel` is initialized. There are two further keyword arguments here, `n_factors` and `negative_samples`. In the former case, `n_factors` refers to the size of the latent factor space encoded by the model. The larger the number, the more expressive the model -- to a point. In the latter case, `negative_samples` configures the sampling pointwise sampling policy outlined by [He et al](). In practice, the model will be trained by sampling 'negative' instances for each positive instance in the set. In other words: for each user-item pair with a positive rating (in this case one -- remember `utils.as_implicit`?), a given number of `negative_samples` will be drawn that the user _did not_ interact with. This is resampled in each epoch. This helps the model learn more general patterns, and to avoid overfitting. Empirically, it makes quite a difference over other sampling approaches. If you're interested, you should look at the [pairwise loss used in Bayesian Personalized Ranking (BPR)]().\n",
    "\n",
    "You're now ready to fit your model. You can do this with:"
   ]
  },
  {
   "cell_type": "code",
   "execution_count": 17,
   "metadata": {},
   "outputs": [
    {
     "name": "stdout",
     "output_type": "stream",
     "text": [
      "1075/1075 [==============================] - 2s 2ms/step - loss: 0.4895 - val_loss: 0.3513\n",
      "Epoch 2/2\n",
      "1075/1075 [==============================] - 2s 2ms/step - loss: 0.3343 - val_loss: 0.3284\n",
      "Epoch 3/3\n",
      "1075/1075 [==============================] - 2s 2ms/step - loss: 0.3087 - val_loss: 0.3057\n",
      "Epoch 4/4\n",
      "1075/1075 [==============================] - 2s 2ms/step - loss: 0.2892 - val_loss: 0.2919\n",
      "Epoch 5/5\n",
      "1075/1075 [==============================] - 2s 2ms/step - loss: 0.2753 - val_loss: 0.2737\n",
      "Epoch 6/6\n",
      "1075/1075 [==============================] - 2s 2ms/step - loss: 0.2568 - val_loss: 0.2583\n",
      "Epoch 7/7\n",
      "1075/1075 [==============================] - 2s 2ms/step - loss: 0.2385 - val_loss: 0.2387\n",
      "Epoch 8/8\n",
      "1075/1075 [==============================] - 2s 2ms/step - loss: 0.2179 - val_loss: 0.2195\n",
      "Epoch 9/9\n",
      "1075/1075 [==============================] - 2s 2ms/step - loss: 0.2000 - val_loss: 0.1994\n",
      "Epoch 10/10\n",
      "1075/1075 [==============================] - 2s 2ms/step - loss: 0.1824 - val_loss: 0.1822\n"
     ]
    },
    {
     "data": {
      "text/plain": [
       "GeneralizedMatrixFactorizationModel()"
      ]
     },
     "execution_count": 17,
     "metadata": {},
     "output_type": "execute_result"
    }
   ],
   "source": [
    "model.fit(train_ds)"
   ]
  },
  {
   "cell_type": "markdown",
   "metadata": {},
   "source": [
    "Remember that (as with any ML model) you'll want to tweak your hyperparameters (e.g. `n_factor`, regularization, etc.) to optimize your model's performance on your given dataset. The example model here is just a quick un-tuned model to show you the ropes."
   ]
  },
  {
   "cell_type": "markdown",
   "metadata": {},
   "source": [
    "## Evaluating the model\n",
    "\n",
    "Now to diagnose how well your model has done. The evaluation protocol here is set up in accordance with the methodology outlined in [the original paper](). To get yourself ready to generate some scores, you'll need to run:"
   ]
  },
  {
   "cell_type": "code",
   "execution_count": 18,
   "metadata": {},
   "outputs": [],
   "source": [
    "from xanthus.evaluate import he_sampling\n",
    "\n",
    "_, test_items, _ = test_ds.to_components(shuffle=False)\n",
    "users, items = he_sampling(test_ds, train_ds, n_samples=200)"
   ]
  },
  {
   "cell_type": "markdown",
   "metadata": {},
   "source": [
    "So, what's going on here? First, you're importing the `he_sampling` function. This implements a sampling approach used be [He et al.]() in their work. The idea is that you evaluate your model on the user-item pairs in your test set, and for each 'true' user-item pair, you sample `n_samples` negative instances for that user (i.e. items they haven't interacted with). In the case of the `he_sampling` function, this produces and array of shape `n_users, n_samples + 1`. Concretely, for each user, you'll get an array where the first element is a positive sample (something they _did_ interact with) and `n_samples` negative samples (things they _did not_ interact with). \n",
    "\n",
    "The rationale here is that by having the model rank these `n_samples + 1` items for each user, you'll be able to determine whether your model is learning an effective ranking function -- the positive sample _should_ appear higher in the recommendations than the negative results if the model is doing it's job. Here's how you can rank these sampled items:"
   ]
  },
  {
   "cell_type": "code",
   "execution_count": 19,
   "metadata": {},
   "outputs": [],
   "source": [
    "recommended = model.predict(test_ds, users=users, items=items, n=10)"
   ]
  },
  {
   "cell_type": "markdown",
   "metadata": {},
   "source": [
    "And finally for the evaluation, you can use the `score` function and the provided `metrics` in the Xanthus `evaluate` subpackage. Here's how you can use them:"
   ]
  },
  {
   "cell_type": "code",
   "execution_count": 20,
   "metadata": {},
   "outputs": [
    {
     "name": "stdout",
     "output_type": "stream",
     "text": [
      "t-nDCG 0.4727691131482932\n",
      "HR@k 0.6973684210526315\n"
     ]
    }
   ],
   "source": [
    "from xanthus.evaluate import score, metrics\n",
    "\n",
    "print(\"t-nDCG\", score(metrics.truncated_ndcg, test_items, recommended).mean())\n",
    "print(\"HR@k\", score(metrics.precision_at_k, test_items, recommended).mean())"
   ]
  },
  {
   "cell_type": "markdown",
   "metadata": {},
   "source": [
    "Looking okay. Good work. Going into detail on how the metrics presented here work is beyond the scope of this notebook. If you're interested in what is going on here, make sure to check out the docs (docstrings) in the Xanthus package itself."
   ]
  },
  {
   "cell_type": "markdown",
   "metadata": {},
   "source": [
    "## The fun bit\n",
    "\n",
    "After all of that, it is time to see what you've won. Exciting times. You can generate recommendations for your users _from unseen items_ by using the following:"
   ]
  },
  {
   "cell_type": "code",
   "execution_count": 21,
   "metadata": {},
   "outputs": [],
   "source": [
    "recommended = model.predict(users=users, items=items[:, 1:], n=5)"
   ]
  },
  {
   "cell_type": "markdown",
   "metadata": {},
   "source": [
    "Recall that the first 'column' in the `items` array corresponds to positive the positive sample for a user. You can skip that here. So now you have a great big array of integers. Not as exciting as you'd hoped? Fair enough. Xanthus provides a utility to convert the outputs of your model predictions into a more readable Pandas `DataFrame`. Specifically, your `DatasetEncoder` has the handy `to_df` method for just this job. Give it a set of _encoded_ users and a list of _encoded_ items for each user, and it'll build you a nice `DataFrame`. Here's how:"
   ]
  },
  {
   "cell_type": "code",
   "execution_count": 22,
   "metadata": {},
   "outputs": [
    {
     "data": {
      "text/html": [
       "<div>\n",
       "<style scoped>\n",
       "    .dataframe tbody tr th:only-of-type {\n",
       "        vertical-align: middle;\n",
       "    }\n",
       "\n",
       "    .dataframe tbody tr th {\n",
       "        vertical-align: top;\n",
       "    }\n",
       "\n",
       "    .dataframe thead th {\n",
       "        text-align: right;\n",
       "    }\n",
       "</style>\n",
       "<table border=\"1\" class=\"dataframe\">\n",
       "  <thead>\n",
       "    <tr style=\"text-align: right;\">\n",
       "      <th></th>\n",
       "      <th>id</th>\n",
       "      <th>item_0</th>\n",
       "      <th>item_1</th>\n",
       "      <th>item_2</th>\n",
       "      <th>item_3</th>\n",
       "      <th>item_4</th>\n",
       "    </tr>\n",
       "  </thead>\n",
       "  <tbody>\n",
       "    <tr>\n",
       "      <th>0</th>\n",
       "      <td>1</td>\n",
       "      <td>There's Something About Mary (1998)</td>\n",
       "      <td>Crow, The (1994)</td>\n",
       "      <td>Star Trek II: The Wrath of Khan (1982)</td>\n",
       "      <td>Casablanca (1942)</td>\n",
       "      <td>Heathers (1989)</td>\n",
       "    </tr>\n",
       "    <tr>\n",
       "      <th>1</th>\n",
       "      <td>2</td>\n",
       "      <td>Lord of the Rings: The Return of the King, The...</td>\n",
       "      <td>Logan (2017)</td>\n",
       "      <td>Avatar (2009)</td>\n",
       "      <td>Sherlock Holmes (2009)</td>\n",
       "      <td>Truman Show, The (1998)</td>\n",
       "    </tr>\n",
       "    <tr>\n",
       "      <th>2</th>\n",
       "      <td>3</td>\n",
       "      <td>Blade Runner (1982)</td>\n",
       "      <td>River Wild, The (1994)</td>\n",
       "      <td>Quiz Show (1994)</td>\n",
       "      <td>First Knight (1995)</td>\n",
       "      <td>Ref, The (1994)</td>\n",
       "    </tr>\n",
       "    <tr>\n",
       "      <th>3</th>\n",
       "      <td>4</td>\n",
       "      <td>Boot, Das (Boat, The) (1981)</td>\n",
       "      <td>Sling Blade (1996)</td>\n",
       "      <td>Terminator, The (1984)</td>\n",
       "      <td>Rain Man (1988)</td>\n",
       "      <td>Little Big Man (1970)</td>\n",
       "    </tr>\n",
       "    <tr>\n",
       "      <th>4</th>\n",
       "      <td>5</td>\n",
       "      <td>Much Ado About Nothing (1993)</td>\n",
       "      <td>Star Trek: First Contact (1996)</td>\n",
       "      <td>Batman (1989)</td>\n",
       "      <td>One Flew Over the Cuckoo's Nest (1975)</td>\n",
       "      <td>Sling Blade (1996)</td>\n",
       "    </tr>\n",
       "    <tr>\n",
       "      <th>5</th>\n",
       "      <td>6</td>\n",
       "      <td>Crimson Tide (1995)</td>\n",
       "      <td>Searching for Bobby Fischer (1993)</td>\n",
       "      <td>James and the Giant Peach (1996)</td>\n",
       "      <td>Ronin (1998)</td>\n",
       "      <td>G.I. Jane (1997)</td>\n",
       "    </tr>\n",
       "    <tr>\n",
       "      <th>6</th>\n",
       "      <td>7</td>\n",
       "      <td>Unbreakable (2000)</td>\n",
       "      <td>Love Actually (2003)</td>\n",
       "      <td>Illusionist, The (2006)</td>\n",
       "      <td>Training Day (2001)</td>\n",
       "      <td>Hero (Ying xiong) (2002)</td>\n",
       "    </tr>\n",
       "    <tr>\n",
       "      <th>7</th>\n",
       "      <td>8</td>\n",
       "      <td>Sixth Sense, The (1999)</td>\n",
       "      <td>Ghost (1990)</td>\n",
       "      <td>Pocahontas (1995)</td>\n",
       "      <td>Thomas Crown Affair, The (1999)</td>\n",
       "      <td>Air Force One (1997)</td>\n",
       "    </tr>\n",
       "    <tr>\n",
       "      <th>8</th>\n",
       "      <td>9</td>\n",
       "      <td>Shrek (2001)</td>\n",
       "      <td>Indiana Jones and the Last Crusade (1989)</td>\n",
       "      <td>Ocean's Eleven (2001)</td>\n",
       "      <td>South Park: Bigger, Longer and Uncut (1999)</td>\n",
       "      <td>Pirates of the Caribbean: The Curse of the Bla...</td>\n",
       "    </tr>\n",
       "    <tr>\n",
       "      <th>9</th>\n",
       "      <td>10</td>\n",
       "      <td>Lion King, The (1994)</td>\n",
       "      <td>Zombieland (2009)</td>\n",
       "      <td>Rush Hour 2 (2001)</td>\n",
       "      <td>300 (2007)</td>\n",
       "      <td>Horrible Bosses 2 (2014)</td>\n",
       "    </tr>\n",
       "    <tr>\n",
       "      <th>10</th>\n",
       "      <td>11</td>\n",
       "      <td>X-Men (2000)</td>\n",
       "      <td>Piano, The (1993)</td>\n",
       "      <td>American History X (1998)</td>\n",
       "      <td>Waterworld (1995)</td>\n",
       "      <td>Snatch (2000)</td>\n",
       "    </tr>\n",
       "    <tr>\n",
       "      <th>11</th>\n",
       "      <td>12</td>\n",
       "      <td>Beauty and the Beast (1991)</td>\n",
       "      <td>Birdcage, The (1996)</td>\n",
       "      <td>Perfect Storm, The (2000)</td>\n",
       "      <td>Braveheart (1995)</td>\n",
       "      <td>Courage Under Fire (1996)</td>\n",
       "    </tr>\n",
       "    <tr>\n",
       "      <th>12</th>\n",
       "      <td>13</td>\n",
       "      <td>Die Hard (1988)</td>\n",
       "      <td>Lion King, The (1994)</td>\n",
       "      <td>Pirates of the Caribbean: The Curse of the Bla...</td>\n",
       "      <td>Jumanji (1995)</td>\n",
       "      <td>Casino (1995)</td>\n",
       "    </tr>\n",
       "    <tr>\n",
       "      <th>13</th>\n",
       "      <td>14</td>\n",
       "      <td>Terminator 2: Judgment Day (1991)</td>\n",
       "      <td>Godfather, The (1972)</td>\n",
       "      <td>Babe (1995)</td>\n",
       "      <td>First Knight (1995)</td>\n",
       "      <td>Die Hard (1988)</td>\n",
       "    </tr>\n",
       "    <tr>\n",
       "      <th>14</th>\n",
       "      <td>15</td>\n",
       "      <td>Good Will Hunting (1997)</td>\n",
       "      <td>Truman Show, The (1998)</td>\n",
       "      <td>Kiss Kiss Bang Bang (2005)</td>\n",
       "      <td>Zodiac (2007)</td>\n",
       "      <td>Heat (1995)</td>\n",
       "    </tr>\n",
       "    <tr>\n",
       "      <th>15</th>\n",
       "      <td>16</td>\n",
       "      <td>Indiana Jones and the Last Crusade (1989)</td>\n",
       "      <td>Saving Private Ryan (1998)</td>\n",
       "      <td>Gladiator (2000)</td>\n",
       "      <td>Birds, The (1963)</td>\n",
       "      <td>Pianist, The (2002)</td>\n",
       "    </tr>\n",
       "    <tr>\n",
       "      <th>16</th>\n",
       "      <td>17</td>\n",
       "      <td>Spider-Man (2002)</td>\n",
       "      <td>Fifth Element, The (1997)</td>\n",
       "      <td>Master and Commander: The Far Side of the Worl...</td>\n",
       "      <td>Field of Dreams (1989)</td>\n",
       "      <td>Team America: World Police (2004)</td>\n",
       "    </tr>\n",
       "    <tr>\n",
       "      <th>17</th>\n",
       "      <td>18</td>\n",
       "      <td>Princess Mononoke (Mononoke-hime) (1997)</td>\n",
       "      <td>28 Days Later (2002)</td>\n",
       "      <td>Adjustment Bureau, The (2011)</td>\n",
       "      <td>Stardust (2007)</td>\n",
       "      <td>Ghostbusters (a.k.a. Ghost Busters) (1984)</td>\n",
       "    </tr>\n",
       "    <tr>\n",
       "      <th>18</th>\n",
       "      <td>19</td>\n",
       "      <td>GoldenEye (1995)</td>\n",
       "      <td>Lethal Weapon (1987)</td>\n",
       "      <td>Cool Hand Luke (1967)</td>\n",
       "      <td>Crimson Tide (1995)</td>\n",
       "      <td>Analyze This (1999)</td>\n",
       "    </tr>\n",
       "    <tr>\n",
       "      <th>19</th>\n",
       "      <td>20</td>\n",
       "      <td>Shakespeare in Love (1998)</td>\n",
       "      <td>Crash (2004)</td>\n",
       "      <td>Walk the Line (2005)</td>\n",
       "      <td>March of the Penguins (Marche de l'empereur, L...</td>\n",
       "      <td>Cars (2006)</td>\n",
       "    </tr>\n",
       "    <tr>\n",
       "      <th>20</th>\n",
       "      <td>21</td>\n",
       "      <td>Wreck-It Ralph (2012)</td>\n",
       "      <td>Atlantis: The Lost Empire (2001)</td>\n",
       "      <td>Harry Potter and the Order of the Phoenix (2007)</td>\n",
       "      <td>True Lies (1994)</td>\n",
       "      <td>Happy Gilmore (1996)</td>\n",
       "    </tr>\n",
       "    <tr>\n",
       "      <th>21</th>\n",
       "      <td>22</td>\n",
       "      <td>Pirates of the Caribbean: The Curse of the Bla...</td>\n",
       "      <td>E.T. the Extra-Terrestrial (1982)</td>\n",
       "      <td>WALL·E (2008)</td>\n",
       "      <td>Harry Potter and the Sorcerer's Stone (a.k.a. ...</td>\n",
       "      <td>Blow (2001)</td>\n",
       "    </tr>\n",
       "    <tr>\n",
       "      <th>22</th>\n",
       "      <td>23</td>\n",
       "      <td>Insider, The (1999)</td>\n",
       "      <td>Streetcar Named Desire, A (1951)</td>\n",
       "      <td>Wizard of Oz, The (1939)</td>\n",
       "      <td>Midnight Cowboy (1969)</td>\n",
       "      <td>Jurassic Park (1993)</td>\n",
       "    </tr>\n",
       "    <tr>\n",
       "      <th>23</th>\n",
       "      <td>24</td>\n",
       "      <td>Requiem for a Dream (2000)</td>\n",
       "      <td>Star Wars: Episode III - Revenge of the Sith (...</td>\n",
       "      <td>Blood Diamond (2006)</td>\n",
       "      <td>Howl's Moving Castle (Hauru no ugoku shiro) (2...</td>\n",
       "      <td>Corpse Bride (2005)</td>\n",
       "    </tr>\n",
       "    <tr>\n",
       "      <th>24</th>\n",
       "      <td>25</td>\n",
       "      <td>Ex Machina (2015)</td>\n",
       "      <td>Usual Suspects, The (1995)</td>\n",
       "      <td>The Lego Movie (2014)</td>\n",
       "      <td>Clear and Present Danger (1994)</td>\n",
       "      <td>Pirates of the Caribbean: The Curse of the Bla...</td>\n",
       "    </tr>\n",
       "  </tbody>\n",
       "</table>\n",
       "</div>"
      ],
      "text/plain": [
       "    id                                             item_0  \\\n",
       "0    1                There's Something About Mary (1998)   \n",
       "1    2  Lord of the Rings: The Return of the King, The...   \n",
       "2    3                                Blade Runner (1982)   \n",
       "3    4                       Boot, Das (Boat, The) (1981)   \n",
       "4    5                      Much Ado About Nothing (1993)   \n",
       "5    6                                Crimson Tide (1995)   \n",
       "6    7                                 Unbreakable (2000)   \n",
       "7    8                            Sixth Sense, The (1999)   \n",
       "8    9                                       Shrek (2001)   \n",
       "9   10                              Lion King, The (1994)   \n",
       "10  11                                       X-Men (2000)   \n",
       "11  12                        Beauty and the Beast (1991)   \n",
       "12  13                                    Die Hard (1988)   \n",
       "13  14                  Terminator 2: Judgment Day (1991)   \n",
       "14  15                           Good Will Hunting (1997)   \n",
       "15  16          Indiana Jones and the Last Crusade (1989)   \n",
       "16  17                                  Spider-Man (2002)   \n",
       "17  18           Princess Mononoke (Mononoke-hime) (1997)   \n",
       "18  19                                   GoldenEye (1995)   \n",
       "19  20                         Shakespeare in Love (1998)   \n",
       "20  21                              Wreck-It Ralph (2012)   \n",
       "21  22  Pirates of the Caribbean: The Curse of the Bla...   \n",
       "22  23                                Insider, The (1999)   \n",
       "23  24                         Requiem for a Dream (2000)   \n",
       "24  25                                  Ex Machina (2015)   \n",
       "\n",
       "                                               item_1  \\\n",
       "0                                    Crow, The (1994)   \n",
       "1                                        Logan (2017)   \n",
       "2                              River Wild, The (1994)   \n",
       "3                                  Sling Blade (1996)   \n",
       "4                     Star Trek: First Contact (1996)   \n",
       "5                  Searching for Bobby Fischer (1993)   \n",
       "6                                Love Actually (2003)   \n",
       "7                                        Ghost (1990)   \n",
       "8           Indiana Jones and the Last Crusade (1989)   \n",
       "9                                   Zombieland (2009)   \n",
       "10                                  Piano, The (1993)   \n",
       "11                               Birdcage, The (1996)   \n",
       "12                              Lion King, The (1994)   \n",
       "13                              Godfather, The (1972)   \n",
       "14                            Truman Show, The (1998)   \n",
       "15                         Saving Private Ryan (1998)   \n",
       "16                          Fifth Element, The (1997)   \n",
       "17                               28 Days Later (2002)   \n",
       "18                               Lethal Weapon (1987)   \n",
       "19                                       Crash (2004)   \n",
       "20                   Atlantis: The Lost Empire (2001)   \n",
       "21                  E.T. the Extra-Terrestrial (1982)   \n",
       "22                   Streetcar Named Desire, A (1951)   \n",
       "23  Star Wars: Episode III - Revenge of the Sith (...   \n",
       "24                         Usual Suspects, The (1995)   \n",
       "\n",
       "                                               item_2  \\\n",
       "0              Star Trek II: The Wrath of Khan (1982)   \n",
       "1                                       Avatar (2009)   \n",
       "2                                    Quiz Show (1994)   \n",
       "3                              Terminator, The (1984)   \n",
       "4                                       Batman (1989)   \n",
       "5                    James and the Giant Peach (1996)   \n",
       "6                             Illusionist, The (2006)   \n",
       "7                                   Pocahontas (1995)   \n",
       "8                               Ocean's Eleven (2001)   \n",
       "9                                  Rush Hour 2 (2001)   \n",
       "10                          American History X (1998)   \n",
       "11                          Perfect Storm, The (2000)   \n",
       "12  Pirates of the Caribbean: The Curse of the Bla...   \n",
       "13                                        Babe (1995)   \n",
       "14                         Kiss Kiss Bang Bang (2005)   \n",
       "15                                   Gladiator (2000)   \n",
       "16  Master and Commander: The Far Side of the Worl...   \n",
       "17                      Adjustment Bureau, The (2011)   \n",
       "18                              Cool Hand Luke (1967)   \n",
       "19                               Walk the Line (2005)   \n",
       "20   Harry Potter and the Order of the Phoenix (2007)   \n",
       "21                                      WALL·E (2008)   \n",
       "22                           Wizard of Oz, The (1939)   \n",
       "23                               Blood Diamond (2006)   \n",
       "24                              The Lego Movie (2014)   \n",
       "\n",
       "                                               item_3  \\\n",
       "0                                   Casablanca (1942)   \n",
       "1                              Sherlock Holmes (2009)   \n",
       "2                                 First Knight (1995)   \n",
       "3                                     Rain Man (1988)   \n",
       "4              One Flew Over the Cuckoo's Nest (1975)   \n",
       "5                                        Ronin (1998)   \n",
       "6                                 Training Day (2001)   \n",
       "7                     Thomas Crown Affair, The (1999)   \n",
       "8         South Park: Bigger, Longer and Uncut (1999)   \n",
       "9                                          300 (2007)   \n",
       "10                                  Waterworld (1995)   \n",
       "11                                  Braveheart (1995)   \n",
       "12                                     Jumanji (1995)   \n",
       "13                                First Knight (1995)   \n",
       "14                                      Zodiac (2007)   \n",
       "15                                  Birds, The (1963)   \n",
       "16                             Field of Dreams (1989)   \n",
       "17                                    Stardust (2007)   \n",
       "18                                Crimson Tide (1995)   \n",
       "19  March of the Penguins (Marche de l'empereur, L...   \n",
       "20                                   True Lies (1994)   \n",
       "21  Harry Potter and the Sorcerer's Stone (a.k.a. ...   \n",
       "22                             Midnight Cowboy (1969)   \n",
       "23  Howl's Moving Castle (Hauru no ugoku shiro) (2...   \n",
       "24                    Clear and Present Danger (1994)   \n",
       "\n",
       "                                               item_4  \n",
       "0                                     Heathers (1989)  \n",
       "1                             Truman Show, The (1998)  \n",
       "2                                     Ref, The (1994)  \n",
       "3                               Little Big Man (1970)  \n",
       "4                                  Sling Blade (1996)  \n",
       "5                                    G.I. Jane (1997)  \n",
       "6                            Hero (Ying xiong) (2002)  \n",
       "7                                Air Force One (1997)  \n",
       "8   Pirates of the Caribbean: The Curse of the Bla...  \n",
       "9                            Horrible Bosses 2 (2014)  \n",
       "10                                      Snatch (2000)  \n",
       "11                          Courage Under Fire (1996)  \n",
       "12                                      Casino (1995)  \n",
       "13                                    Die Hard (1988)  \n",
       "14                                        Heat (1995)  \n",
       "15                                Pianist, The (2002)  \n",
       "16                  Team America: World Police (2004)  \n",
       "17         Ghostbusters (a.k.a. Ghost Busters) (1984)  \n",
       "18                                Analyze This (1999)  \n",
       "19                                        Cars (2006)  \n",
       "20                               Happy Gilmore (1996)  \n",
       "21                                        Blow (2001)  \n",
       "22                               Jurassic Park (1993)  \n",
       "23                                Corpse Bride (2005)  \n",
       "24  Pirates of the Caribbean: The Curse of the Bla...  "
      ]
     },
     "execution_count": 22,
     "metadata": {},
     "output_type": "execute_result"
    }
   ],
   "source": [
    "recommended_df = encoder.to_df(users, recommended)\n",
    "recommended_df.head(25)"
   ]
  },
  {
   "cell_type": "markdown",
   "metadata": {},
   "source": [
    "## That's a wrap\n",
    "\n",
    "And that's it for this example. Be sure to raise any issues you have [on GitHub](https://github.com/markdouthwaite/xanthus), or get in touch [on Twitter](https://twitter.com/MarklDouthwaite)."
   ]
  }
 ],
 "metadata": {
  "kernelspec": {
   "display_name": "Python 3",
   "language": "python",
   "name": "python3"
  },
  "language_info": {
   "codemirror_mode": {
    "name": "ipython",
    "version": 3
   },
   "file_extension": ".py",
   "mimetype": "text/x-python",
   "name": "python",
   "nbconvert_exporter": "python",
   "pygments_lexer": "ipython3",
   "version": "3.6.4"
  },
  "pycharm": {
   "stem_cell": {
    "cell_type": "raw",
    "source": [],
    "metadata": {
     "collapsed": false
    }
   }
  }
 },
 "nbformat": 4,
 "nbformat_minor": 4
}