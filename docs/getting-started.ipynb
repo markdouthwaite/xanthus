{
 "cells": [
  {
   "cell_type": "markdown",
   "metadata": {},
   "source": [
    "# Getting started with Xanthus\n",
    "\n",
    "## What is Xanthus?\n",
    "\n",
    "Xanthus is a Neural Recommender package written in Python. It started life as a personal project to take an academic ML paper and translate it into a 'production-ready' software package and to replicate the results of the paper along the way. It uses Tensorflow 2.0 under the hood, and makes extensive use of the Keras API. If you're interested, the original authors of [the paper that inspired this project]() provided code for their experiments, and this proved valuable when starting this project. However, while it is great that they provided their code, the repository isn't maintained, the code uses an old versions of Keras (and Theano!), it can be a little hard for beginners to get to grips with, and it's very much tailored to produce the results in their paper. All fair enough, they wrote a great paper and published their workings. Admirable stuff. Xanthus aims to make it super easy to get started with their work, and to scale their techniques (hopefully) gracefully with you as the complexity of your applications increase.\n",
    "\n",
    "## Loading a sample dataset\n",
    "\n",
    "Ah, the beginning of a brand new ML problem. Time to crack out Pandas and load some CSVs. You know the drill"
   ]
  },
  {
   "cell_type": "code",
   "execution_count": 1,
   "metadata": {},
   "outputs": [],
   "source": [
    "import pandas as pd\n",
    "\n",
    "ratings = pd.read_csv(\"../data/movielens-100k/ratings.csv\")\n",
    "movies = pd.read_csv(\"../data/movielens-100k/movies.csv\")"
   ]
  },
  {
   "cell_type": "markdown",
   "metadata": {},
   "source": [
    "Let's take a look at the data we've loaded. Here's the movies dataset:"
   ]
  },
  {
   "cell_type": "code",
   "execution_count": 2,
   "metadata": {},
   "outputs": [
    {
     "data": {
      "text/html": [
       "<div>\n",
       "<style scoped>\n",
       "    .dataframe tbody tr th:only-of-type {\n",
       "        vertical-align: middle;\n",
       "    }\n",
       "\n",
       "    .dataframe tbody tr th {\n",
       "        vertical-align: top;\n",
       "    }\n",
       "\n",
       "    .dataframe thead th {\n",
       "        text-align: right;\n",
       "    }\n",
       "</style>\n",
       "<table border=\"1\" class=\"dataframe\">\n",
       "  <thead>\n",
       "    <tr style=\"text-align: right;\">\n",
       "      <th></th>\n",
       "      <th>movieId</th>\n",
       "      <th>title</th>\n",
       "      <th>genres</th>\n",
       "    </tr>\n",
       "  </thead>\n",
       "  <tbody>\n",
       "    <tr>\n",
       "      <th>0</th>\n",
       "      <td>1</td>\n",
       "      <td>Toy Story (1995)</td>\n",
       "      <td>Adventure|Animation|Children|Comedy|Fantasy</td>\n",
       "    </tr>\n",
       "    <tr>\n",
       "      <th>1</th>\n",
       "      <td>2</td>\n",
       "      <td>Jumanji (1995)</td>\n",
       "      <td>Adventure|Children|Fantasy</td>\n",
       "    </tr>\n",
       "    <tr>\n",
       "      <th>2</th>\n",
       "      <td>3</td>\n",
       "      <td>Grumpier Old Men (1995)</td>\n",
       "      <td>Comedy|Romance</td>\n",
       "    </tr>\n",
       "    <tr>\n",
       "      <th>3</th>\n",
       "      <td>4</td>\n",
       "      <td>Waiting to Exhale (1995)</td>\n",
       "      <td>Comedy|Drama|Romance</td>\n",
       "    </tr>\n",
       "    <tr>\n",
       "      <th>4</th>\n",
       "      <td>5</td>\n",
       "      <td>Father of the Bride Part II (1995)</td>\n",
       "      <td>Comedy</td>\n",
       "    </tr>\n",
       "  </tbody>\n",
       "</table>\n",
       "</div>"
      ],
      "text/plain": [
       "   movieId                               title  \\\n",
       "0        1                    Toy Story (1995)   \n",
       "1        2                      Jumanji (1995)   \n",
       "2        3             Grumpier Old Men (1995)   \n",
       "3        4            Waiting to Exhale (1995)   \n",
       "4        5  Father of the Bride Part II (1995)   \n",
       "\n",
       "                                        genres  \n",
       "0  Adventure|Animation|Children|Comedy|Fantasy  \n",
       "1                   Adventure|Children|Fantasy  \n",
       "2                               Comedy|Romance  \n",
       "3                         Comedy|Drama|Romance  \n",
       "4                                       Comedy  "
      ]
     },
     "execution_count": 2,
     "metadata": {},
     "output_type": "execute_result"
    }
   ],
   "source": [
    "movies.head()"
   ]
  },
  {
   "cell_type": "markdown",
   "metadata": {},
   "source": [
    "As you can see, you've got the unique identifier for your movies, the title of the movie in human-readable format, and then the column `genres` that has a string containing a set of associated genres for the given movie. Straightforward enough. And hey, that `genres` column might come in handy at some point...\n",
    "\n",
    "On to the `ratings` frame. Here's what is in there:"
   ]
  },
  {
   "cell_type": "code",
   "execution_count": 3,
   "metadata": {},
   "outputs": [
    {
     "data": {
      "text/html": [
       "<div>\n",
       "<style scoped>\n",
       "    .dataframe tbody tr th:only-of-type {\n",
       "        vertical-align: middle;\n",
       "    }\n",
       "\n",
       "    .dataframe tbody tr th {\n",
       "        vertical-align: top;\n",
       "    }\n",
       "\n",
       "    .dataframe thead th {\n",
       "        text-align: right;\n",
       "    }\n",
       "</style>\n",
       "<table border=\"1\" class=\"dataframe\">\n",
       "  <thead>\n",
       "    <tr style=\"text-align: right;\">\n",
       "      <th></th>\n",
       "      <th>userId</th>\n",
       "      <th>movieId</th>\n",
       "      <th>rating</th>\n",
       "      <th>timestamp</th>\n",
       "    </tr>\n",
       "  </thead>\n",
       "  <tbody>\n",
       "    <tr>\n",
       "      <th>0</th>\n",
       "      <td>1</td>\n",
       "      <td>1</td>\n",
       "      <td>4.0</td>\n",
       "      <td>964982703</td>\n",
       "    </tr>\n",
       "    <tr>\n",
       "      <th>1</th>\n",
       "      <td>1</td>\n",
       "      <td>3</td>\n",
       "      <td>4.0</td>\n",
       "      <td>964981247</td>\n",
       "    </tr>\n",
       "    <tr>\n",
       "      <th>2</th>\n",
       "      <td>1</td>\n",
       "      <td>6</td>\n",
       "      <td>4.0</td>\n",
       "      <td>964982224</td>\n",
       "    </tr>\n",
       "    <tr>\n",
       "      <th>3</th>\n",
       "      <td>1</td>\n",
       "      <td>47</td>\n",
       "      <td>5.0</td>\n",
       "      <td>964983815</td>\n",
       "    </tr>\n",
       "    <tr>\n",
       "      <th>4</th>\n",
       "      <td>1</td>\n",
       "      <td>50</td>\n",
       "      <td>5.0</td>\n",
       "      <td>964982931</td>\n",
       "    </tr>\n",
       "  </tbody>\n",
       "</table>\n",
       "</div>"
      ],
      "text/plain": [
       "   userId  movieId  rating  timestamp\n",
       "0       1        1     4.0  964982703\n",
       "1       1        3     4.0  964981247\n",
       "2       1        6     4.0  964982224\n",
       "3       1       47     5.0  964983815\n",
       "4       1       50     5.0  964982931"
      ]
     },
     "execution_count": 3,
     "metadata": {},
     "output_type": "execute_result"
    }
   ],
   "source": [
    "ratings.head()"
   ]
  },
  {
   "cell_type": "markdown",
   "metadata": {},
   "source": [
    "First up, you've got a `userId` corresponding to the unique user identifier, and you've got the `movieId` corresponding to the unique movie identifier (this maps onto the `movieId` column in the `movies` frame, above). You've also got a `rating` field. This is associated with the user-assigned rating for that movie. Finally, you have the `timestamp` -- the date at which the user rated the movie. For future reference, you can convert from this timestamp to a 'human readable' date with:"
   ]
  },
  {
   "cell_type": "code",
   "execution_count": 4,
   "metadata": {},
   "outputs": [
    {
     "data": {
      "text/plain": [
       "'2000-07-30 19:45:03'"
      ]
     },
     "execution_count": 4,
     "metadata": {},
     "output_type": "execute_result"
    }
   ],
   "source": [
    "from datetime import datetime\n",
    "\n",
    "datetime.fromtimestamp(ratings.iloc[0][\"timestamp\"]).strftime(\"%Y-%m-%d %H:%M:%S\")"
   ]
  },
  {
   "cell_type": "markdown",
   "metadata": {},
   "source": [
    "Thats your freebie for the day. Onto getting the data ready for training your recommender model."
   ]
  },
  {
   "cell_type": "markdown",
   "metadata": {},
   "source": [
    "## Data preparation\n",
    "\n",
    "Xanthus provides a few utilities for getting your recommender up and running. One of the more ubiquitous utilities is the `Dataset` class, and its related `DatasetEncoder` class. At the time of writing, the `Dataset` class assumes your 'ratings' data is in the format `user`, `item`, `rating`. You can rename the sample data to be in this format with:"
   ]
  },
  {
   "cell_type": "code",
   "execution_count": 5,
   "metadata": {},
   "outputs": [],
   "source": [
    "ratings = ratings.rename(columns={\"userId\": \"user\", \"movieId\": \"item\"})"
   ]
  },
  {
   "cell_type": "markdown",
   "metadata": {},
   "source": [
    "Next, you might find it helpful to re-map the movie IDs (now under the `item` column) to be the `titles` in the `movies` frame. This'll make it easier for you to see what the recommender is recommending! Don't do this for big datasets though -- it can get very expensive very quickly! Anyway, remap the `item` column with:"
   ]
  },
  {
   "cell_type": "code",
   "execution_count": 6,
   "metadata": {},
   "outputs": [
    {
     "data": {
      "text/html": [
       "<div>\n",
       "<style scoped>\n",
       "    .dataframe tbody tr th:only-of-type {\n",
       "        vertical-align: middle;\n",
       "    }\n",
       "\n",
       "    .dataframe tbody tr th {\n",
       "        vertical-align: top;\n",
       "    }\n",
       "\n",
       "    .dataframe thead th {\n",
       "        text-align: right;\n",
       "    }\n",
       "</style>\n",
       "<table border=\"1\" class=\"dataframe\">\n",
       "  <thead>\n",
       "    <tr style=\"text-align: right;\">\n",
       "      <th></th>\n",
       "      <th>user</th>\n",
       "      <th>item</th>\n",
       "      <th>rating</th>\n",
       "      <th>timestamp</th>\n",
       "    </tr>\n",
       "  </thead>\n",
       "  <tbody>\n",
       "    <tr>\n",
       "      <th>0</th>\n",
       "      <td>1</td>\n",
       "      <td>Toy Story (1995)</td>\n",
       "      <td>4.0</td>\n",
       "      <td>964982703</td>\n",
       "    </tr>\n",
       "    <tr>\n",
       "      <th>1</th>\n",
       "      <td>1</td>\n",
       "      <td>Grumpier Old Men (1995)</td>\n",
       "      <td>4.0</td>\n",
       "      <td>964981247</td>\n",
       "    </tr>\n",
       "  </tbody>\n",
       "</table>\n",
       "</div>"
      ],
      "text/plain": [
       "   user                     item  rating  timestamp\n",
       "0     1         Toy Story (1995)     4.0  964982703\n",
       "1     1  Grumpier Old Men (1995)     4.0  964981247"
      ]
     },
     "execution_count": 6,
     "metadata": {},
     "output_type": "execute_result"
    }
   ],
   "source": [
    "title_mapping = dict(zip(movies[\"movieId\"], movies[\"title\"]))\n",
    "ratings.loc[:, \"item\"] = ratings[\"item\"].apply(lambda _: title_mapping[_])\n",
    "ratings.head(2)"
   ]
  },
  {
   "cell_type": "markdown",
   "metadata": {},
   "source": [
    "A little more meaningful, eh? For this example, you are going to be looking at _implicit_ recommendations, so should also remove clearly negative rating pairs from the dataset. You can do this with:"
   ]
  },
  {
   "cell_type": "code",
   "execution_count": 7,
   "metadata": {},
   "outputs": [],
   "source": [
    "ratings = ratings[ratings[\"rating\"] > 3.0]"
   ]
  },
  {
   "cell_type": "markdown",
   "metadata": {},
   "source": [
    "### Leave one out protocol\n",
    "\n",
    "As with any ML model, it is important to keep a held-out sample of your dataset to evaluate your model's performance. This is naturally important for recommenders too. However, recommenders differ slightly in that we are often interested in the recommender's ability to _rank_ candidate items in order to surface the most relevant content to a user. Ultimately, the essence of recommendation problems is search, and getting relevant items in the top `n` search results is generally the name of the game -- absolute accuracy can often be a secondary consideration.\n",
    "\n",
    "One common way of evaluating the performance of a recommender model is therefore to create a test set by sampling `n` items from each user's `m` interactions (e.g. movie ratings), keeping `m-n` interactions in the training set and putting the 'left out' `n` samples in the test set. The thought process then goes that when evaluating a model on this test set, you should see the model rank the 'held' out samples more highly in the results (i.e. it has started to learn a user's preferences). \n",
    "\n",
    "The 'leave one out' protocol is a specific case of this approach where `n=1`. Concretely, when creating a test set using 'leave one out', you withold a single interaction from each user and put these in your test set. You then place all other interactions in your training set. To get you going, Xanthus provides a utility function called -- funnily enough -- `leave_one_out` under the `evaluate` subpackage. You can import it and use it as follows:"
   ]
  },
  {
   "cell_type": "code",
   "execution_count": 8,
   "metadata": {},
   "outputs": [],
   "source": [
    "from xanthus.evaluate import leave_one_out\n",
    "\n",
    "train_df, test_df = leave_one_out(ratings, shuffle=True, deduplicate=True)"
   ]
  },
  {
   "cell_type": "markdown",
   "metadata": {},
   "source": [
    "You'll notice that there's a couple of things going on here. Firstly, the function returns the input interactions frame (in this case `ratings`) and splits it into the two datasets as expected. Fair enough. We then have two keyword arguments `shuffle` and `deduplicate`. The argument `shuffle` will -- you guessed it -- shuffle your dataset before sampling interactions for your test set. This is set to `True` by default, so it is shown here for the purpose of being explicit. The second argument is `deduplicate`. This does what you might expect too -- it strips any cases where a user interacts with a specific item more than once (i.e. a given user-item pair appears more than once).\n",
    "\n",
    "As discussed above, the `leave_one_out` function is really a specific version of a more general 'leave `n` out' approach to splitting a dataset. There's also other ways you might want to split datasets for recommendation problems. For many of those circumstances, Xanthus provides a more generic `split` function. This was inspired by Azure's [_Recommender Split_](https://docs.microsoft.com/en-us/azure/machine-learning/studio-module-reference/split-data-using-recommender-split#:~:text=The%20Recommender%20Split%20option%20is,user%2Ditem%2Drating%20triples) method in Azure ML Studio. There are a few important tweaks in the Xanthus implementation, so make sure to check out that functions documentation if you're interested.\n",
    "\n",
    "Anyway, time to build some datasets.\n",
    "\n",
    "## Introducing the `Dataset`\n",
    "\n",
    "Like other ML problems, recommendation problems typically need to create encoded representations of a domain in order to be passed into a model for training and evaluation. However, there's a few aspects of recommendation problems that can make this problem particularly fiddly. To help you on your way, Xanthus provides a few utilities, including the `Dataset` class and the `DatasetEncoder` class. These structures are designed to take care of the fiddliness for you. They'll build your input vectors (including with metadata, if you provide it -- more on that later) and sparse matrices as required. You shouldn't need to touch a thing. \n",
    "\n",
    "Here's how it works. First, your 'train' and 'test' datasets are going to need to share the same encodings, right? Otherwise they'll disagree on whether `Batman Forever (1995)` shares the same encoding across the datasets, and that would be a terrible shame. To create your `DatasetEncoder` you can do this:"
   ]
  },
  {
   "cell_type": "code",
   "execution_count": 9,
   "metadata": {},
   "outputs": [
    {
     "data": {
      "text/plain": [
       "<xanthus.datasets.encoder.DatasetEncoder at 0x1123ed550>"
      ]
     },
     "execution_count": 9,
     "metadata": {},
     "output_type": "execute_result"
    }
   ],
   "source": [
    "from xanthus.datasets import DatasetEncoder\n",
    "\n",
    "encoder = DatasetEncoder()\n",
    "encoder.fit(ratings[\"user\"], ratings[\"item\"])"
   ]
  },
  {
   "cell_type": "markdown",
   "metadata": {},
   "source": [
    "This encoder will store all of the unique encodings of every user and item in the `ratings` set. Notice that you're passing in the `ratings` set here, as opposed to either train or test. This makes doubly sure you're creating encodings for every user-item pair in the dataset. To check this has worked, you can call the `transform` method on the encoder like this:"
   ]
  },
  {
   "cell_type": "code",
   "execution_count": 10,
   "metadata": {},
   "outputs": [
    {
     "data": {
      "text/plain": [
       "{'items': array([1694], dtype=int32)}"
      ]
     },
     "execution_count": 10,
     "metadata": {},
     "output_type": "execute_result"
    }
   ],
   "source": [
    "encoder.transform(items=[\"Batman Forever (1995)\"])"
   ]
  },
  {
   "cell_type": "markdown",
   "metadata": {},
   "source": [
    "The naming conventions on the `DatasetEncoder` are deliberately reminicent of the methods on Scikit-Learn encoders, just to help you along with using them. Now you've got your encoder, you can create your `Dataset` objects:"
   ]
  },
  {
   "cell_type": "code",
   "execution_count": 11,
   "metadata": {},
   "outputs": [],
   "source": [
    "from xanthus.datasets import Dataset, utils\n",
    "\n",
    "train_ds = Dataset.from_df(train_df, normalize=utils.as_implicit, encoder=encoder)\n",
    "test_ds = Dataset.from_df(test_df, normalize=utils.as_implicit, encoder=encoder)"
   ]
  },
  {
   "cell_type": "markdown",
   "metadata": {},
   "source": [
    "Let's unpack what's going on here. The `Dataset` class provides the `from_df` class method for quickly constructing a `Dataset` from a 'raw' Pandas `DataFrame`. You want to create a train and test dataset, hence creating two separate `Dataset` objects using this method. Next, you can see that the `encoder` keyword argument is passed in to the `from_df` method. This ensures that each `Dataset` maintains a reference to the _same_ `DatasetEncoder` to ensure consistency when used. The final argument here is `normalize`. This expects a callable object (e.g. a function) that scales the `rating` column (if provided). In the case of this example, the normalization is simply to treat the ratings as an implicit recommendation problem (i.e. all zero or one). The `utils.as_implicit` function simply sets all ratings to one. Simple enough, eh?\n",
    "\n",
    "And that is it for preparing your datasets for modelling, at least for now. Time for some Neural Networks.\n",
    "\n",
    "## Getting neural\n",
    "\n",
    "With your datasets ready, you can build and fit your model. In the example, the `GeneralizedMatrixFactorizationModel` (or `GMFModel`) is used. If you're not sure what a GMF model is, be sure to check out the original paper, and the GMF class itself in the Xanthus docs. Anyway, here's how you set it up: "
   ]
  },
  {
   "cell_type": "code",
   "execution_count": 12,
   "metadata": {},
   "outputs": [],
   "source": [
    "from xanthus.models import GeneralizedMatrixFactorizationModel as GMFModel\n",
    "\n",
    "fit_params = dict(epochs=10, batch_size=256)\n",
    "\n",
    "model = GMFModel(\n",
    "    fit_params=fit_params, n_factors=32, negative_samples=4\n",
    ")"
   ]
  },
  {
   "cell_type": "markdown",
   "metadata": {},
   "source": [
    "What is going on here, you ask? Good question. First, you import the `GeneralizedMatrixFactorizationModel` as any other object. You then define `fit_params` -- fit parameters -- to define the training loop used by the Keras optimizer. All Xanthus neural recommender models inherit from the base `NeuralRecommenderModel` class. By default, this class (and therefore all child classes) utilize the `Adam` optimizer. You can configure this to use any optimizer you wish though!\n",
    "\n",
    "After the `fit_param`, the `GeneralizedMatrixFactorizationModel` is initialized. There are two further keyword arguments here, `n_factors` and `negative_samples`. In the former case, `n_factors` refers to the size of the latent factor space encoded by the model. The larger the number, the more expressive the model -- to a point. In the latter case, `negative_samples` configures the sampling pointwise sampling policy outlined by [He et al](). In practice, the model will be trained by sampling 'negative' instances for each positive instance in the set. In other words: for each user-item pair with a positive rating (in this case one -- remember `utils.as_implicit`?), a given number of `negative_samples` will be drawn that the user _did not_ interact with. This is resampled in each epoch. This helps the model learn more general patterns, and to avoid overfitting. Empirically, it makes quite a difference over other sampling approaches. If you're interested, you should look at the [pairwise loss used in Bayesian Personalized Ranking (BPR)]().\n",
    "\n",
    "You're now ready to fit your model. You can do this with:"
   ]
  },
  {
   "cell_type": "code",
   "execution_count": 13,
   "metadata": {},
   "outputs": [
    {
     "name": "stdout",
     "output_type": "stream",
     "text": [
      "1075/1075 [==============================] - 2s 2ms/step - loss: 0.4906 - val_loss: 0.3608\n",
      "Epoch 2/2\n",
      "1075/1075 [==============================] - 2s 2ms/step - loss: 0.3338 - val_loss: 0.3290\n",
      "Epoch 3/3\n",
      "1075/1075 [==============================] - 2s 2ms/step - loss: 0.3080 - val_loss: 0.3011\n",
      "Epoch 4/4\n",
      "1075/1075 [==============================] - 2s 2ms/step - loss: 0.2869 - val_loss: 0.2776\n",
      "Epoch 5/5\n",
      "1075/1075 [==============================] - 2s 2ms/step - loss: 0.2674 - val_loss: 0.2717\n",
      "Epoch 6/6\n",
      "1075/1075 [==============================] - 2s 2ms/step - loss: 0.2483 - val_loss: 0.2476\n",
      "Epoch 7/7\n",
      "1075/1075 [==============================] - 2s 2ms/step - loss: 0.2307 - val_loss: 0.2295\n",
      "Epoch 8/8\n",
      "1075/1075 [==============================] - 2s 2ms/step - loss: 0.2125 - val_loss: 0.2110\n",
      "Epoch 9/9\n",
      "1075/1075 [==============================] - 2s 2ms/step - loss: 0.1955 - val_loss: 0.1968\n",
      "Epoch 10/10\n",
      "1075/1075 [==============================] - 2s 2ms/step - loss: 0.1795 - val_loss: 0.1783\n"
     ]
    },
    {
     "data": {
      "text/plain": [
       "GeneralizedMatrixFactorizationModel()"
      ]
     },
     "execution_count": 13,
     "metadata": {},
     "output_type": "execute_result"
    }
   ],
   "source": [
    "model.fit(train_ds)"
   ]
  },
  {
   "cell_type": "markdown",
   "metadata": {},
   "source": [
    "## Evaluating the model"
   ]
  },
  {
   "cell_type": "code",
   "execution_count": 14,
   "metadata": {},
   "outputs": [],
   "source": [
    "from xanthus.evaluate import he_sampling\n",
    "\n",
    "_, test_items, _ = test_ds.to_components(shuffle=False)\n",
    "users, items = he_sampling(test_ds, train_ds, n_samples=200)"
   ]
  },
  {
   "cell_type": "code",
   "execution_count": 15,
   "metadata": {},
   "outputs": [],
   "source": [
    "recommended = model.predict(test_ds, users=users, items=items, n=10)"
   ]
  },
  {
   "cell_type": "code",
   "execution_count": 19,
   "metadata": {},
   "outputs": [
    {
     "name": "stdout",
     "output_type": "stream",
     "text": [
      "t-nDCG 0.450049862096657\n",
      "HR@k 0.694078947368421\n"
     ]
    }
   ],
   "source": [
    "from xanthus.evaluate import score, metrics\n",
    "\n",
    "print(\"t-nDCG\", score(metrics.truncated_ndcg, test_items, recommended).mean())\n",
    "print(\"HR@k\", score(metrics.precision_at_k, test_items, recommended).mean())"
   ]
  },
  {
   "cell_type": "markdown",
   "metadata": {},
   "source": [
    "## The fun bit\n",
    "\n",
    "After all of that, it is time to see what you've won."
   ]
  },
  {
   "cell_type": "code",
   "execution_count": 24,
   "metadata": {},
   "outputs": [],
   "source": [
    "recommended = model.predict(users=users, items=items[:, 1:], n=5)"
   ]
  },
  {
   "cell_type": "code",
   "execution_count": 26,
   "metadata": {},
   "outputs": [
    {
     "data": {
      "text/html": [
       "<div>\n",
       "<style scoped>\n",
       "    .dataframe tbody tr th:only-of-type {\n",
       "        vertical-align: middle;\n",
       "    }\n",
       "\n",
       "    .dataframe tbody tr th {\n",
       "        vertical-align: top;\n",
       "    }\n",
       "\n",
       "    .dataframe thead th {\n",
       "        text-align: right;\n",
       "    }\n",
       "</style>\n",
       "<table border=\"1\" class=\"dataframe\">\n",
       "  <thead>\n",
       "    <tr style=\"text-align: right;\">\n",
       "      <th></th>\n",
       "      <th>id</th>\n",
       "      <th>item_0</th>\n",
       "      <th>item_1</th>\n",
       "      <th>item_2</th>\n",
       "      <th>item_3</th>\n",
       "      <th>item_4</th>\n",
       "    </tr>\n",
       "  </thead>\n",
       "  <tbody>\n",
       "    <tr>\n",
       "      <th>0</th>\n",
       "      <td>1</td>\n",
       "      <td>Godfather, The (1972)</td>\n",
       "      <td>Thomas Crown Affair, The (1999)</td>\n",
       "      <td>Boogie Nights (1997)</td>\n",
       "      <td>Weird Science (1985)</td>\n",
       "      <td>Wayne's World 2 (1993)</td>\n",
       "    </tr>\n",
       "    <tr>\n",
       "      <th>1</th>\n",
       "      <td>2</td>\n",
       "      <td>Harry Potter and the Deathly Hallows: Part 2 (...</td>\n",
       "      <td>Big Hero 6 (2014)</td>\n",
       "      <td>Raiders of the Lost Ark (Indiana Jones and the...</td>\n",
       "      <td>Bourne Identity, The (2002)</td>\n",
       "      <td>Ace Ventura: Pet Detective (1994)</td>\n",
       "    </tr>\n",
       "    <tr>\n",
       "      <th>2</th>\n",
       "      <td>3</td>\n",
       "      <td>Paper, The (1994)</td>\n",
       "      <td>Rumble in the Bronx (Hont faan kui) (1995)</td>\n",
       "      <td>Arrival, The (1996)</td>\n",
       "      <td>Deep Impact (1998)</td>\n",
       "      <td>Dolores Claiborne (1995)</td>\n",
       "    </tr>\n",
       "    <tr>\n",
       "      <th>3</th>\n",
       "      <td>4</td>\n",
       "      <td>Dances with Wolves (1990)</td>\n",
       "      <td>Hoop Dreams (1994)</td>\n",
       "      <td>Star Wars: Episode VI - Return of the Jedi (1983)</td>\n",
       "      <td>Terminator 2: Judgment Day (1991)</td>\n",
       "      <td>Boys Don't Cry (1999)</td>\n",
       "    </tr>\n",
       "    <tr>\n",
       "      <th>4</th>\n",
       "      <td>5</td>\n",
       "      <td>While You Were Sleeping (1995)</td>\n",
       "      <td>Net, The (1995)</td>\n",
       "      <td>Contact (1997)</td>\n",
       "      <td>Jungle Book, The (1994)</td>\n",
       "      <td>My Fair Lady (1964)</td>\n",
       "    </tr>\n",
       "    <tr>\n",
       "      <th>5</th>\n",
       "      <td>6</td>\n",
       "      <td>Wes Craven's New Nightmare (Nightmare on Elm S...</td>\n",
       "      <td>Cold Comfort Farm (1995)</td>\n",
       "      <td>Star Wars: Episode IV - A New Hope (1977)</td>\n",
       "      <td>American Pie (1999)</td>\n",
       "      <td>Colonel Chabert, Le (1994)</td>\n",
       "    </tr>\n",
       "    <tr>\n",
       "      <th>6</th>\n",
       "      <td>7</td>\n",
       "      <td>Monty Python and the Holy Grail (1975)</td>\n",
       "      <td>Truman Show, The (1998)</td>\n",
       "      <td>Babel (2006)</td>\n",
       "      <td>American Gangster (2007)</td>\n",
       "      <td>Taken (2008)</td>\n",
       "    </tr>\n",
       "    <tr>\n",
       "      <th>7</th>\n",
       "      <td>8</td>\n",
       "      <td>Matrix, The (1999)</td>\n",
       "      <td>Back to the Future (1985)</td>\n",
       "      <td>Willy Wonka &amp; the Chocolate Factory (1971)</td>\n",
       "      <td>Die Hard (1988)</td>\n",
       "      <td>2001: A Space Odyssey (1968)</td>\n",
       "    </tr>\n",
       "    <tr>\n",
       "      <th>8</th>\n",
       "      <td>9</td>\n",
       "      <td>Casablanca (1942)</td>\n",
       "      <td>Rear Window (1954)</td>\n",
       "      <td>It's a Wonderful Life (1946)</td>\n",
       "      <td>Toy Story 2 (1999)</td>\n",
       "      <td>Butch Cassidy and the Sundance Kid (1969)</td>\n",
       "    </tr>\n",
       "    <tr>\n",
       "      <th>9</th>\n",
       "      <td>10</td>\n",
       "      <td>Chronicles of Narnia: Prince Caspian, The (2008)</td>\n",
       "      <td>Silence of the Lambs, The (1991)</td>\n",
       "      <td>Moana (2016)</td>\n",
       "      <td>Cars (2006)</td>\n",
       "      <td>Ace Ventura: When Nature Calls (1995)</td>\n",
       "    </tr>\n",
       "    <tr>\n",
       "      <th>10</th>\n",
       "      <td>11</td>\n",
       "      <td>Rob Roy (1995)</td>\n",
       "      <td>Nobody's Fool (1994)</td>\n",
       "      <td>Muriel's Wedding (1994)</td>\n",
       "      <td>Runaway Bride (1999)</td>\n",
       "      <td>True Romance (1993)</td>\n",
       "    </tr>\n",
       "    <tr>\n",
       "      <th>11</th>\n",
       "      <td>12</td>\n",
       "      <td>Searching for Bobby Fischer (1993)</td>\n",
       "      <td>Hunchback of Notre Dame, The (1996)</td>\n",
       "      <td>Maverick (1994)</td>\n",
       "      <td>October Sky (1999)</td>\n",
       "      <td>Nixon (1995)</td>\n",
       "    </tr>\n",
       "    <tr>\n",
       "      <th>12</th>\n",
       "      <td>13</td>\n",
       "      <td>Braveheart (1995)</td>\n",
       "      <td>Indiana Jones and the Temple of Doom (1984)</td>\n",
       "      <td>Lord of the Rings: The Two Towers, The (2002)</td>\n",
       "      <td>Spider-Man 2 (2004)</td>\n",
       "      <td>Ace Ventura: When Nature Calls (1995)</td>\n",
       "    </tr>\n",
       "    <tr>\n",
       "      <th>13</th>\n",
       "      <td>14</td>\n",
       "      <td>Lion King, The (1994)</td>\n",
       "      <td>Nixon (1995)</td>\n",
       "      <td>Remains of the Day, The (1993)</td>\n",
       "      <td>Shining, The (1980)</td>\n",
       "      <td>Circle of Friends (1995)</td>\n",
       "    </tr>\n",
       "    <tr>\n",
       "      <th>14</th>\n",
       "      <td>15</td>\n",
       "      <td>Avengers, The (2012)</td>\n",
       "      <td>Slumdog Millionaire (2008)</td>\n",
       "      <td>Sherlock Holmes (2009)</td>\n",
       "      <td>Dead Poets Society (1989)</td>\n",
       "      <td>Illusionist, The (2006)</td>\n",
       "    </tr>\n",
       "    <tr>\n",
       "      <th>15</th>\n",
       "      <td>16</td>\n",
       "      <td>Ghostbusters (a.k.a. Ghost Busters) (1984)</td>\n",
       "      <td>Game, The (1997)</td>\n",
       "      <td>No Country for Old Men (2007)</td>\n",
       "      <td>Fear and Loathing in Las Vegas (1998)</td>\n",
       "      <td>Nightmare Before Christmas, The (1993)</td>\n",
       "    </tr>\n",
       "    <tr>\n",
       "      <th>16</th>\n",
       "      <td>17</td>\n",
       "      <td>Finding Nemo (2003)</td>\n",
       "      <td>Run Lola Run (Lola rennt) (1998)</td>\n",
       "      <td>Austin Powers: International Man of Mystery (1...</td>\n",
       "      <td>Exorcist, The (1973)</td>\n",
       "      <td>Bourne Supremacy, The (2004)</td>\n",
       "    </tr>\n",
       "    <tr>\n",
       "      <th>17</th>\n",
       "      <td>18</td>\n",
       "      <td>Dr. Strangelove or: How I Learned to Stop Worr...</td>\n",
       "      <td>Groundhog Day (1993)</td>\n",
       "      <td>Gone Girl (2014)</td>\n",
       "      <td>Moneyball (2011)</td>\n",
       "      <td>Knocked Up (2007)</td>\n",
       "    </tr>\n",
       "    <tr>\n",
       "      <th>18</th>\n",
       "      <td>19</td>\n",
       "      <td>M*A*S*H (a.k.a. MASH) (1970)</td>\n",
       "      <td>Gods Must Be Crazy, The (1980)</td>\n",
       "      <td>Time to Kill, A (1996)</td>\n",
       "      <td>Player, The (1992)</td>\n",
       "      <td>Boot, Das (Boat, The) (1981)</td>\n",
       "    </tr>\n",
       "    <tr>\n",
       "      <th>19</th>\n",
       "      <td>20</td>\n",
       "      <td>Saving Private Ryan (1998)</td>\n",
       "      <td>Top Gun (1986)</td>\n",
       "      <td>Field of Dreams (1989)</td>\n",
       "      <td>Girl Next Door, The (2004)</td>\n",
       "      <td>Marie Antoinette (2006)</td>\n",
       "    </tr>\n",
       "    <tr>\n",
       "      <th>20</th>\n",
       "      <td>21</td>\n",
       "      <td>WALL·E (2008)</td>\n",
       "      <td>Great Gatsby, The (2013)</td>\n",
       "      <td>Ex Machina (2015)</td>\n",
       "      <td>Star Trek: First Contact (1996)</td>\n",
       "      <td>Lord of the Rings: The Two Towers, The (2002)</td>\n",
       "    </tr>\n",
       "    <tr>\n",
       "      <th>21</th>\n",
       "      <td>22</td>\n",
       "      <td>Raiders of the Lost Ark (Indiana Jones and the...</td>\n",
       "      <td>Apocalypse Now (1979)</td>\n",
       "      <td>Training Day (2001)</td>\n",
       "      <td>Italian Job, The (2003)</td>\n",
       "      <td>Harry Potter and the Prisoner of Azkaban (2004)</td>\n",
       "    </tr>\n",
       "    <tr>\n",
       "      <th>22</th>\n",
       "      <td>23</td>\n",
       "      <td>Raising Arizona (1987)</td>\n",
       "      <td>Thing, The (1982)</td>\n",
       "      <td>Run Lola Run (Lola rennt) (1998)</td>\n",
       "      <td>Lives of Others, The (Das leben der Anderen) (...</td>\n",
       "      <td>Eternal Sunshine of the Spotless Mind (2004)</td>\n",
       "    </tr>\n",
       "    <tr>\n",
       "      <th>23</th>\n",
       "      <td>24</td>\n",
       "      <td>Léon: The Professional (a.k.a. The Professiona...</td>\n",
       "      <td>Alien (1979)</td>\n",
       "      <td>Cast Away (2000)</td>\n",
       "      <td>South Park: Bigger, Longer and Uncut (1999)</td>\n",
       "      <td>Grand Budapest Hotel, The (2014)</td>\n",
       "    </tr>\n",
       "    <tr>\n",
       "      <th>24</th>\n",
       "      <td>25</td>\n",
       "      <td>Seven (a.k.a. Se7en) (1995)</td>\n",
       "      <td>Ace Ventura: Pet Detective (1994)</td>\n",
       "      <td>Air Force One (1997)</td>\n",
       "      <td>Edge of Tomorrow (2014)</td>\n",
       "      <td>I Am Legend (2007)</td>\n",
       "    </tr>\n",
       "  </tbody>\n",
       "</table>\n",
       "</div>"
      ],
      "text/plain": [
       "    id                                             item_0  \\\n",
       "0    1                              Godfather, The (1972)   \n",
       "1    2  Harry Potter and the Deathly Hallows: Part 2 (...   \n",
       "2    3                                  Paper, The (1994)   \n",
       "3    4                          Dances with Wolves (1990)   \n",
       "4    5                     While You Were Sleeping (1995)   \n",
       "5    6  Wes Craven's New Nightmare (Nightmare on Elm S...   \n",
       "6    7             Monty Python and the Holy Grail (1975)   \n",
       "7    8                                 Matrix, The (1999)   \n",
       "8    9                                  Casablanca (1942)   \n",
       "9   10   Chronicles of Narnia: Prince Caspian, The (2008)   \n",
       "10  11                                     Rob Roy (1995)   \n",
       "11  12                 Searching for Bobby Fischer (1993)   \n",
       "12  13                                  Braveheart (1995)   \n",
       "13  14                              Lion King, The (1994)   \n",
       "14  15                               Avengers, The (2012)   \n",
       "15  16         Ghostbusters (a.k.a. Ghost Busters) (1984)   \n",
       "16  17                                Finding Nemo (2003)   \n",
       "17  18  Dr. Strangelove or: How I Learned to Stop Worr...   \n",
       "18  19                       M*A*S*H (a.k.a. MASH) (1970)   \n",
       "19  20                         Saving Private Ryan (1998)   \n",
       "20  21                                      WALL·E (2008)   \n",
       "21  22  Raiders of the Lost Ark (Indiana Jones and the...   \n",
       "22  23                             Raising Arizona (1987)   \n",
       "23  24  Léon: The Professional (a.k.a. The Professiona...   \n",
       "24  25                        Seven (a.k.a. Se7en) (1995)   \n",
       "\n",
       "                                         item_1  \\\n",
       "0               Thomas Crown Affair, The (1999)   \n",
       "1                             Big Hero 6 (2014)   \n",
       "2    Rumble in the Bronx (Hont faan kui) (1995)   \n",
       "3                            Hoop Dreams (1994)   \n",
       "4                               Net, The (1995)   \n",
       "5                      Cold Comfort Farm (1995)   \n",
       "6                       Truman Show, The (1998)   \n",
       "7                     Back to the Future (1985)   \n",
       "8                            Rear Window (1954)   \n",
       "9              Silence of the Lambs, The (1991)   \n",
       "10                         Nobody's Fool (1994)   \n",
       "11          Hunchback of Notre Dame, The (1996)   \n",
       "12  Indiana Jones and the Temple of Doom (1984)   \n",
       "13                                 Nixon (1995)   \n",
       "14                   Slumdog Millionaire (2008)   \n",
       "15                             Game, The (1997)   \n",
       "16             Run Lola Run (Lola rennt) (1998)   \n",
       "17                         Groundhog Day (1993)   \n",
       "18               Gods Must Be Crazy, The (1980)   \n",
       "19                               Top Gun (1986)   \n",
       "20                     Great Gatsby, The (2013)   \n",
       "21                        Apocalypse Now (1979)   \n",
       "22                            Thing, The (1982)   \n",
       "23                                 Alien (1979)   \n",
       "24            Ace Ventura: Pet Detective (1994)   \n",
       "\n",
       "                                               item_2  \\\n",
       "0                                Boogie Nights (1997)   \n",
       "1   Raiders of the Lost Ark (Indiana Jones and the...   \n",
       "2                                 Arrival, The (1996)   \n",
       "3   Star Wars: Episode VI - Return of the Jedi (1983)   \n",
       "4                                      Contact (1997)   \n",
       "5           Star Wars: Episode IV - A New Hope (1977)   \n",
       "6                                        Babel (2006)   \n",
       "7          Willy Wonka & the Chocolate Factory (1971)   \n",
       "8                        It's a Wonderful Life (1946)   \n",
       "9                                        Moana (2016)   \n",
       "10                            Muriel's Wedding (1994)   \n",
       "11                                    Maverick (1994)   \n",
       "12      Lord of the Rings: The Two Towers, The (2002)   \n",
       "13                     Remains of the Day, The (1993)   \n",
       "14                             Sherlock Holmes (2009)   \n",
       "15                      No Country for Old Men (2007)   \n",
       "16  Austin Powers: International Man of Mystery (1...   \n",
       "17                                   Gone Girl (2014)   \n",
       "18                             Time to Kill, A (1996)   \n",
       "19                             Field of Dreams (1989)   \n",
       "20                                  Ex Machina (2015)   \n",
       "21                                Training Day (2001)   \n",
       "22                   Run Lola Run (Lola rennt) (1998)   \n",
       "23                                   Cast Away (2000)   \n",
       "24                               Air Force One (1997)   \n",
       "\n",
       "                                               item_3  \\\n",
       "0                                Weird Science (1985)   \n",
       "1                         Bourne Identity, The (2002)   \n",
       "2                                  Deep Impact (1998)   \n",
       "3                   Terminator 2: Judgment Day (1991)   \n",
       "4                             Jungle Book, The (1994)   \n",
       "5                                 American Pie (1999)   \n",
       "6                            American Gangster (2007)   \n",
       "7                                     Die Hard (1988)   \n",
       "8                                  Toy Story 2 (1999)   \n",
       "9                                         Cars (2006)   \n",
       "10                               Runaway Bride (1999)   \n",
       "11                                 October Sky (1999)   \n",
       "12                                Spider-Man 2 (2004)   \n",
       "13                                Shining, The (1980)   \n",
       "14                          Dead Poets Society (1989)   \n",
       "15              Fear and Loathing in Las Vegas (1998)   \n",
       "16                               Exorcist, The (1973)   \n",
       "17                                   Moneyball (2011)   \n",
       "18                                 Player, The (1992)   \n",
       "19                         Girl Next Door, The (2004)   \n",
       "20                    Star Trek: First Contact (1996)   \n",
       "21                            Italian Job, The (2003)   \n",
       "22  Lives of Others, The (Das leben der Anderen) (...   \n",
       "23        South Park: Bigger, Longer and Uncut (1999)   \n",
       "24                            Edge of Tomorrow (2014)   \n",
       "\n",
       "                                             item_4  \n",
       "0                            Wayne's World 2 (1993)  \n",
       "1                 Ace Ventura: Pet Detective (1994)  \n",
       "2                          Dolores Claiborne (1995)  \n",
       "3                             Boys Don't Cry (1999)  \n",
       "4                               My Fair Lady (1964)  \n",
       "5                        Colonel Chabert, Le (1994)  \n",
       "6                                      Taken (2008)  \n",
       "7                      2001: A Space Odyssey (1968)  \n",
       "8         Butch Cassidy and the Sundance Kid (1969)  \n",
       "9             Ace Ventura: When Nature Calls (1995)  \n",
       "10                              True Romance (1993)  \n",
       "11                                     Nixon (1995)  \n",
       "12            Ace Ventura: When Nature Calls (1995)  \n",
       "13                         Circle of Friends (1995)  \n",
       "14                          Illusionist, The (2006)  \n",
       "15           Nightmare Before Christmas, The (1993)  \n",
       "16                     Bourne Supremacy, The (2004)  \n",
       "17                                Knocked Up (2007)  \n",
       "18                     Boot, Das (Boat, The) (1981)  \n",
       "19                          Marie Antoinette (2006)  \n",
       "20    Lord of the Rings: The Two Towers, The (2002)  \n",
       "21  Harry Potter and the Prisoner of Azkaban (2004)  \n",
       "22     Eternal Sunshine of the Spotless Mind (2004)  \n",
       "23                 Grand Budapest Hotel, The (2014)  \n",
       "24                               I Am Legend (2007)  "
      ]
     },
     "execution_count": 26,
     "metadata": {},
     "output_type": "execute_result"
    }
   ],
   "source": [
    "recommended_df = encoder.to_df(users, recommended)\n",
    "recommended_df.head(25)"
   ]
  }
 ],
 "metadata": {
  "kernelspec": {
   "display_name": "Python 3",
   "language": "python",
   "name": "python3"
  },
  "language_info": {
   "codemirror_mode": {
    "name": "ipython",
    "version": 3
   },
   "file_extension": ".py",
   "mimetype": "text/x-python",
   "name": "python",
   "nbconvert_exporter": "python",
   "pygments_lexer": "ipython3",
   "version": "3.6.4"
  },
  "pycharm": {
   "stem_cell": {
    "cell_type": "raw",
    "metadata": {
     "collapsed": false
    },
    "source": []
   }
  }
 },
 "nbformat": 4,
 "nbformat_minor": 4
}
