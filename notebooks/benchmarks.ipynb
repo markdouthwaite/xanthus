{
 "cells": [
  {
   "cell_type": "code",
   "execution_count": 10,
   "metadata": {},
   "outputs": [],
   "source": [
    "import os\n",
    "import pandas as pd\n",
    "\n",
    "\n",
    "def load_results(path=\"../scripts/data/benchmarks-2\"):\n",
    "\n",
    "    _results = {}\n",
    "\n",
    "    for root, dirs, files in os.walk(path):\n",
    "        for file in files:\n",
    "            path, factors = os.path.split(root)\n",
    "            _, model = os.path.split(path)\n",
    "            key=f\"{model}-{factors}\"\n",
    "            _results[key] = pd.read_csv(os.path.join(root, file), index_col=0)\n",
    "\n",
    "    return _results\n",
    "\n",
    "\n",
    "def get_best_stats(results, key, filtered=lambda _: False):\n",
    "    stats = []\n",
    "    for k, df in results.items():\n",
    "        print(k, filtered(k))\n",
    "        if not filtered(k):\n",
    "            best_vals = [df[_].max() for _ in df.columns if _.startswith(key)]\n",
    "            stats.append(pd.DataFrame(data=zip(list(range(1, len(best_vals))), best_vals, [k for _ in range(len(best_vals))]), columns=[\"k\", key, \"key\"]))\n",
    "\n",
    "    return pd.concat(stats)\n",
    "\n",
    "\n",
    "def get_best_stats_by_factor(results, k, filtered=lambda _: False):\n",
    "    stats = []\n",
    "    for key, df in results.items():\n",
    "        if not filtered(key):\n",
    "            label, factors = key.split(\"-\")\n",
    "            stats.append([label, int(factors), df[f\"ndcg{k}\"].max(), df[f\"hr{k}\"].max()])\n",
    "\n",
    "    return pd.DataFrame(data=stats, columns=[\"key\", \"factors\", \"ndcg\", \"hr\"])\n",
    "\n",
    "\n",
    "def plot_best_stats(results, key, **kwargs):\n",
    "    stats = get_best_stats(results, key, **kwargs)\n",
    "    return alt.Chart(stats).mark_line().encode(\n",
    "        x=\"k:O\",\n",
    "        y=alt.Y(f'{key}:Q',\n",
    "            scale=alt.Scale(zero=False)\n",
    "        ),\n",
    "        color=\"key\"\n",
    "    )\n",
    "\n",
    "\n",
    "def plot_best_stats_by_factor(results, key, k):\n",
    "    stats = get_best_stats_by_factor(results, k)\n",
    "\n",
    "    return alt.Chart(stats.sort_values(by=\"factors\")).mark_line().encode(\n",
    "        x=alt.X('factors:O',\n",
    "            scale=alt.Scale(zero=False)\n",
    "        ),\n",
    "        y=alt.Y(f'{key}:Q',\n",
    "            scale=alt.Scale(zero=False)\n",
    "        ),\n",
    "        color=\"key\"\n",
    "    )\n",
    "\n",
    "\n",
    "def filter_on(factors):\n",
    "    return lambda _: False if int(_.split(\"-\")[1]) == factors else True\n"
   ]
  },
  {
   "cell_type": "code",
   "execution_count": null,
   "metadata": {},
   "outputs": [],
   "source": []
  },
  {
   "cell_type": "code",
   "execution_count": 11,
   "metadata": {},
   "outputs": [
    {
     "name": "stdout",
     "output_type": "stream",
     "text": [
      "gmf-8 False\n",
      "nmf-8 False\n",
      "als-8 False\n",
      "mlp-8 False\n",
      "bpr-8 False\n"
     ]
    },
    {
     "data": {
      "text/html": [
       "\n",
       "<div id=\"altair-viz-650039ec2b2c41c79691eb65e765c4c7\"></div>\n",
       "<script type=\"text/javascript\">\n",
       "  (function(spec, embedOpt){\n",
       "    let outputDiv = document.currentScript.previousElementSibling;\n",
       "    if (outputDiv.id !== \"altair-viz-650039ec2b2c41c79691eb65e765c4c7\") {\n",
       "      outputDiv = document.getElementById(\"altair-viz-650039ec2b2c41c79691eb65e765c4c7\");\n",
       "    }\n",
       "    const paths = {\n",
       "      \"vega\": \"https://cdn.jsdelivr.net/npm//vega@5?noext\",\n",
       "      \"vega-lib\": \"https://cdn.jsdelivr.net/npm//vega-lib?noext\",\n",
       "      \"vega-lite\": \"https://cdn.jsdelivr.net/npm//vega-lite@4.8.1?noext\",\n",
       "      \"vega-embed\": \"https://cdn.jsdelivr.net/npm//vega-embed@6?noext\",\n",
       "    };\n",
       "\n",
       "    function loadScript(lib) {\n",
       "      return new Promise(function(resolve, reject) {\n",
       "        var s = document.createElement('script');\n",
       "        s.src = paths[lib];\n",
       "        s.async = true;\n",
       "        s.onload = () => resolve(paths[lib]);\n",
       "        s.onerror = () => reject(`Error loading script: ${paths[lib]}`);\n",
       "        document.getElementsByTagName(\"head\")[0].appendChild(s);\n",
       "      });\n",
       "    }\n",
       "\n",
       "    function showError(err) {\n",
       "      outputDiv.innerHTML = `<div class=\"error\" style=\"color:red;\">${err}</div>`;\n",
       "      throw err;\n",
       "    }\n",
       "\n",
       "    function displayChart(vegaEmbed) {\n",
       "      vegaEmbed(outputDiv, spec, embedOpt)\n",
       "        .catch(err => showError(`Javascript Error: ${err.message}<br>This usually means there's a typo in your chart specification. See the javascript console for the full traceback.`));\n",
       "    }\n",
       "\n",
       "    if(typeof define === \"function\" && define.amd) {\n",
       "      requirejs.config({paths});\n",
       "      require([\"vega-embed\"], displayChart, err => showError(`Error loading script: ${err.message}`));\n",
       "    } else if (typeof vegaEmbed === \"function\") {\n",
       "      displayChart(vegaEmbed);\n",
       "    } else {\n",
       "      loadScript(\"vega\")\n",
       "        .then(() => loadScript(\"vega-lite\"))\n",
       "        .then(() => loadScript(\"vega-embed\"))\n",
       "        .catch(showError)\n",
       "        .then(() => displayChart(vegaEmbed));\n",
       "    }\n",
       "  })({\"config\": {\"view\": {\"continuousWidth\": 400, \"continuousHeight\": 300}}, \"data\": {\"name\": \"data-d29fe7cc7488a391462da5b0102419ec\"}, \"mark\": \"line\", \"encoding\": {\"color\": {\"type\": \"nominal\", \"field\": \"key\"}, \"x\": {\"type\": \"ordinal\", \"field\": \"k\"}, \"y\": {\"type\": \"quantitative\", \"field\": \"ndcg\", \"scale\": {\"zero\": false}}}, \"$schema\": \"https://vega.github.io/schema/vega-lite/v4.8.1.json\", \"datasets\": {\"data-d29fe7cc7488a391462da5b0102419ec\": [{\"k\": 1, \"ndcg\": 0.3524590163934426, \"key\": \"gmf-8\"}, {\"k\": 2, \"ndcg\": 0.43106665782201775, \"key\": \"gmf-8\"}, {\"k\": 3, \"ndcg\": 0.4728699365105422, \"key\": \"gmf-8\"}, {\"k\": 4, \"ndcg\": 0.5018170494302293, \"key\": \"gmf-8\"}, {\"k\": 5, \"ndcg\": 0.5170374877476539, \"key\": \"gmf-8\"}, {\"k\": 6, \"ndcg\": 0.5304682505402515, \"key\": \"gmf-8\"}, {\"k\": 7, \"ndcg\": 0.5392114199391586, \"key\": \"gmf-8\"}, {\"k\": 8, \"ndcg\": 0.5500716861891589, \"key\": \"gmf-8\"}, {\"k\": 9, \"ndcg\": 0.5559935877432046, \"key\": \"gmf-8\"}, {\"k\": 1, \"ndcg\": 0.40327868852459015, \"key\": \"nmf-8\"}, {\"k\": 2, \"ndcg\": 0.4974009960245944, \"key\": \"nmf-8\"}, {\"k\": 3, \"ndcg\": 0.5269091927459059, \"key\": \"nmf-8\"}, {\"k\": 4, \"ndcg\": 0.5502080885105322, \"key\": \"nmf-8\"}, {\"k\": 5, \"ndcg\": 0.5654285268279567, \"key\": \"nmf-8\"}, {\"k\": 6, \"ndcg\": 0.5794432358289281, \"key\": \"nmf-8\"}, {\"k\": 7, \"ndcg\": 0.5884542915992614, \"key\": \"nmf-8\"}, {\"k\": 8, \"ndcg\": 0.5968901716798263, \"key\": \"nmf-8\"}, {\"k\": 9, \"ndcg\": 0.6047860404185537, \"key\": \"nmf-8\"}, {\"k\": 1, \"ndcg\": 0.4163934426229508, \"key\": \"als-8\"}, {\"k\": 2, \"ndcg\": 0.4930102291686222, \"key\": \"als-8\"}, {\"k\": 3, \"ndcg\": 0.5323544914637042, \"key\": \"als-8\"}, {\"k\": 4, \"ndcg\": 0.5516635902832573, \"key\": \"als-8\"}, {\"k\": 5, \"ndcg\": 0.5698085873289227, \"key\": \"als-8\"}, {\"k\": 6, \"ndcg\": 0.5785677804545297, \"key\": \"als-8\"}, {\"k\": 7, \"ndcg\": 0.584117002748537, \"key\": \"als-8\"}, {\"k\": 8, \"ndcg\": 0.5917895943645614, \"key\": \"als-8\"}, {\"k\": 9, \"ndcg\": 0.596724512326266, \"key\": \"als-8\"}, {\"k\": 1, \"ndcg\": 0.3475409836065574, \"key\": \"mlp-8\"}, {\"k\": 2, \"ndcg\": 0.4478691575351334, \"key\": \"mlp-8\"}, {\"k\": 3, \"ndcg\": 0.4913117804859531, \"key\": \"mlp-8\"}, {\"k\": 4, \"ndcg\": 0.5153167033949619, \"key\": \"mlp-8\"}, {\"k\": 5, \"ndcg\": 0.5362448060814207, \"key\": \"mlp-8\"}, {\"k\": 6, \"ndcg\": 0.5502595150823921, \"key\": \"mlp-8\"}, {\"k\": 7, \"ndcg\": 0.5600955806561626, \"key\": \"mlp-8\"}, {\"k\": 8, \"ndcg\": 0.5663014470847343, \"key\": \"mlp-8\"}, {\"k\": 9, \"ndcg\": 0.5707428732502684, \"key\": \"mlp-8\"}, {\"k\": 1, \"ndcg\": 0.2639344262295082, \"key\": \"bpr-8\"}, {\"k\": 2, \"ndcg\": 0.34357637872951186, \"key\": \"bpr-8\"}, {\"k\": 3, \"ndcg\": 0.3822767242037506, \"key\": \"bpr-8\"}, {\"k\": 4, \"ndcg\": 0.406987674257142, \"key\": \"bpr-8\"}, {\"k\": 5, \"ndcg\": 0.4190371879251032, \"key\": \"bpr-8\"}, {\"k\": 6, \"ndcg\": 0.4346656693131044, \"key\": \"bpr-8\"}, {\"k\": 7, \"ndcg\": 0.44286239062457977, \"key\": \"bpr-8\"}, {\"k\": 8, \"ndcg\": 0.4495854125888658, \"key\": \"bpr-8\"}, {\"k\": 9, \"ndcg\": 0.4545203305505704, \"key\": \"bpr-8\"}]}}, {\"mode\": \"vega-lite\"});\n",
       "</script>"
      ],
      "text/plain": [
       "alt.Chart(...)"
      ]
     },
     "execution_count": 11,
     "metadata": {},
     "output_type": "execute_result"
    }
   ],
   "source": [
    "import altair as alt\n",
    "\n",
    "results = load_results()\n",
    "\n",
    "plot_best_stats(results, \"ndcg\")"
   ]
  },
  {
   "cell_type": "code",
   "execution_count": 13,
   "metadata": {},
   "outputs": [
    {
     "name": "stdout",
     "output_type": "stream",
     "text": [
      "gmf-8 False\n",
      "nmf-8 False\n",
      "als-8 False\n",
      "mlp-8 False\n",
      "bpr-8 False\n"
     ]
    },
    {
     "data": {
      "text/html": [
       "\n",
       "<div id=\"altair-viz-a0fc8400c9f241c68213448e864ef5f0\"></div>\n",
       "<script type=\"text/javascript\">\n",
       "  (function(spec, embedOpt){\n",
       "    let outputDiv = document.currentScript.previousElementSibling;\n",
       "    if (outputDiv.id !== \"altair-viz-a0fc8400c9f241c68213448e864ef5f0\") {\n",
       "      outputDiv = document.getElementById(\"altair-viz-a0fc8400c9f241c68213448e864ef5f0\");\n",
       "    }\n",
       "    const paths = {\n",
       "      \"vega\": \"https://cdn.jsdelivr.net/npm//vega@5?noext\",\n",
       "      \"vega-lib\": \"https://cdn.jsdelivr.net/npm//vega-lib?noext\",\n",
       "      \"vega-lite\": \"https://cdn.jsdelivr.net/npm//vega-lite@4.8.1?noext\",\n",
       "      \"vega-embed\": \"https://cdn.jsdelivr.net/npm//vega-embed@6?noext\",\n",
       "    };\n",
       "\n",
       "    function loadScript(lib) {\n",
       "      return new Promise(function(resolve, reject) {\n",
       "        var s = document.createElement('script');\n",
       "        s.src = paths[lib];\n",
       "        s.async = true;\n",
       "        s.onload = () => resolve(paths[lib]);\n",
       "        s.onerror = () => reject(`Error loading script: ${paths[lib]}`);\n",
       "        document.getElementsByTagName(\"head\")[0].appendChild(s);\n",
       "      });\n",
       "    }\n",
       "\n",
       "    function showError(err) {\n",
       "      outputDiv.innerHTML = `<div class=\"error\" style=\"color:red;\">${err}</div>`;\n",
       "      throw err;\n",
       "    }\n",
       "\n",
       "    function displayChart(vegaEmbed) {\n",
       "      vegaEmbed(outputDiv, spec, embedOpt)\n",
       "        .catch(err => showError(`Javascript Error: ${err.message}<br>This usually means there's a typo in your chart specification. See the javascript console for the full traceback.`));\n",
       "    }\n",
       "\n",
       "    if(typeof define === \"function\" && define.amd) {\n",
       "      requirejs.config({paths});\n",
       "      require([\"vega-embed\"], displayChart, err => showError(`Error loading script: ${err.message}`));\n",
       "    } else if (typeof vegaEmbed === \"function\") {\n",
       "      displayChart(vegaEmbed);\n",
       "    } else {\n",
       "      loadScript(\"vega\")\n",
       "        .then(() => loadScript(\"vega-lite\"))\n",
       "        .then(() => loadScript(\"vega-embed\"))\n",
       "        .catch(showError)\n",
       "        .then(() => displayChart(vegaEmbed));\n",
       "    }\n",
       "  })({\"config\": {\"view\": {\"continuousWidth\": 400, \"continuousHeight\": 300}}, \"data\": {\"name\": \"data-adf1443351af37fd45d06c6a8b4a2308\"}, \"mark\": \"line\", \"encoding\": {\"color\": {\"type\": \"nominal\", \"field\": \"key\"}, \"x\": {\"type\": \"ordinal\", \"field\": \"k\"}, \"y\": {\"type\": \"quantitative\", \"field\": \"hr\", \"scale\": {\"zero\": false}}}, \"$schema\": \"https://vega.github.io/schema/vega-lite/v4.8.1.json\", \"datasets\": {\"data-adf1443351af37fd45d06c6a8b4a2308\": [{\"k\": 1, \"hr\": 0.3524590163934426, \"key\": \"gmf-8\"}, {\"k\": 2, \"hr\": 0.4770491803278689, \"key\": \"gmf-8\"}, {\"k\": 3, \"hr\": 0.5639344262295082, \"key\": \"gmf-8\"}, {\"k\": 4, \"hr\": 0.6278688524590164, \"key\": \"gmf-8\"}, {\"k\": 5, \"hr\": 0.6754098360655738, \"key\": \"gmf-8\"}, {\"k\": 6, \"hr\": 0.7065573770491803, \"key\": \"gmf-8\"}, {\"k\": 7, \"hr\": 0.7393442622950821, \"key\": \"gmf-8\"}, {\"k\": 8, \"hr\": 0.7754098360655738, \"key\": \"gmf-8\"}, {\"k\": 9, \"hr\": 0.8, \"key\": \"gmf-8\"}, {\"k\": 1, \"hr\": 0.40327868852459015, \"key\": \"nmf-8\"}, {\"k\": 2, \"hr\": 0.5524590163934426, \"key\": \"nmf-8\"}, {\"k\": 3, \"hr\": 0.6213114754098361, \"key\": \"nmf-8\"}, {\"k\": 4, \"hr\": 0.6770491803278689, \"key\": \"nmf-8\"}, {\"k\": 5, \"hr\": 0.7163934426229508, \"key\": \"nmf-8\"}, {\"k\": 6, \"hr\": 0.7508196721311475, \"key\": \"nmf-8\"}, {\"k\": 7, \"hr\": 0.7803278688524591, \"key\": \"nmf-8\"}, {\"k\": 8, \"hr\": 0.8065573770491803, \"key\": \"nmf-8\"}, {\"k\": 9, \"hr\": 0.8245901639344262, \"key\": \"nmf-8\"}, {\"k\": 1, \"hr\": 0.4163934426229508, \"key\": \"als-8\"}, {\"k\": 2, \"hr\": 0.5426229508196722, \"key\": \"als-8\"}, {\"k\": 3, \"hr\": 0.6229508196721312, \"key\": \"als-8\"}, {\"k\": 4, \"hr\": 0.6737704918032786, \"key\": \"als-8\"}, {\"k\": 5, \"hr\": 0.7180327868852459, \"key\": \"als-8\"}, {\"k\": 6, \"hr\": 0.7409836065573772, \"key\": \"als-8\"}, {\"k\": 7, \"hr\": 0.7606557377049179, \"key\": \"als-8\"}, {\"k\": 8, \"hr\": 0.7836065573770492, \"key\": \"als-8\"}, {\"k\": 9, \"hr\": 0.8, \"key\": \"als-8\"}, {\"k\": 1, \"hr\": 0.3475409836065574, \"key\": \"mlp-8\"}, {\"k\": 2, \"hr\": 0.5065573770491804, \"key\": \"mlp-8\"}, {\"k\": 3, \"hr\": 0.5934426229508196, \"key\": \"mlp-8\"}, {\"k\": 4, \"hr\": 0.6491803278688525, \"key\": \"mlp-8\"}, {\"k\": 5, \"hr\": 0.7032786885245902, \"key\": \"mlp-8\"}, {\"k\": 6, \"hr\": 0.7426229508196721, \"key\": \"mlp-8\"}, {\"k\": 7, \"hr\": 0.7721311475409836, \"key\": \"mlp-8\"}, {\"k\": 8, \"hr\": 0.7918032786885246, \"key\": \"mlp-8\"}, {\"k\": 9, \"hr\": 0.8065573770491803, \"key\": \"mlp-8\"}, {\"k\": 1, \"hr\": 0.2639344262295082, \"key\": \"bpr-8\"}, {\"k\": 2, \"hr\": 0.3901639344262295, \"key\": \"bpr-8\"}, {\"k\": 3, \"hr\": 0.4754098360655738, \"key\": \"bpr-8\"}, {\"k\": 4, \"hr\": 0.5327868852459017, \"key\": \"bpr-8\"}, {\"k\": 5, \"hr\": 0.5754098360655737, \"key\": \"bpr-8\"}, {\"k\": 6, \"hr\": 0.6081967213114754, \"key\": \"bpr-8\"}, {\"k\": 7, \"hr\": 0.6327868852459017, \"key\": \"bpr-8\"}, {\"k\": 8, \"hr\": 0.6540983606557377, \"key\": \"bpr-8\"}, {\"k\": 9, \"hr\": 0.6704918032786885, \"key\": \"bpr-8\"}]}}, {\"mode\": \"vega-lite\"});\n",
       "</script>"
      ],
      "text/plain": [
       "alt.Chart(...)"
      ]
     },
     "execution_count": 13,
     "metadata": {},
     "output_type": "execute_result"
    }
   ],
   "source": [
    "plot_best_stats(results, \"hr\")"
   ]
  },
  {
   "cell_type": "code",
   "execution_count": 14,
   "metadata": {},
   "outputs": [
    {
     "data": {
      "text/html": [
       "\n",
       "<div id=\"altair-viz-a6ae893362e240cd95be021512a73149\"></div>\n",
       "<script type=\"text/javascript\">\n",
       "  (function(spec, embedOpt){\n",
       "    let outputDiv = document.currentScript.previousElementSibling;\n",
       "    if (outputDiv.id !== \"altair-viz-a6ae893362e240cd95be021512a73149\") {\n",
       "      outputDiv = document.getElementById(\"altair-viz-a6ae893362e240cd95be021512a73149\");\n",
       "    }\n",
       "    const paths = {\n",
       "      \"vega\": \"https://cdn.jsdelivr.net/npm//vega@5?noext\",\n",
       "      \"vega-lib\": \"https://cdn.jsdelivr.net/npm//vega-lib?noext\",\n",
       "      \"vega-lite\": \"https://cdn.jsdelivr.net/npm//vega-lite@4.8.1?noext\",\n",
       "      \"vega-embed\": \"https://cdn.jsdelivr.net/npm//vega-embed@6?noext\",\n",
       "    };\n",
       "\n",
       "    function loadScript(lib) {\n",
       "      return new Promise(function(resolve, reject) {\n",
       "        var s = document.createElement('script');\n",
       "        s.src = paths[lib];\n",
       "        s.async = true;\n",
       "        s.onload = () => resolve(paths[lib]);\n",
       "        s.onerror = () => reject(`Error loading script: ${paths[lib]}`);\n",
       "        document.getElementsByTagName(\"head\")[0].appendChild(s);\n",
       "      });\n",
       "    }\n",
       "\n",
       "    function showError(err) {\n",
       "      outputDiv.innerHTML = `<div class=\"error\" style=\"color:red;\">${err}</div>`;\n",
       "      throw err;\n",
       "    }\n",
       "\n",
       "    function displayChart(vegaEmbed) {\n",
       "      vegaEmbed(outputDiv, spec, embedOpt)\n",
       "        .catch(err => showError(`Javascript Error: ${err.message}<br>This usually means there's a typo in your chart specification. See the javascript console for the full traceback.`));\n",
       "    }\n",
       "\n",
       "    if(typeof define === \"function\" && define.amd) {\n",
       "      requirejs.config({paths});\n",
       "      require([\"vega-embed\"], displayChart, err => showError(`Error loading script: ${err.message}`));\n",
       "    } else if (typeof vegaEmbed === \"function\") {\n",
       "      displayChart(vegaEmbed);\n",
       "    } else {\n",
       "      loadScript(\"vega\")\n",
       "        .then(() => loadScript(\"vega-lite\"))\n",
       "        .then(() => loadScript(\"vega-embed\"))\n",
       "        .catch(showError)\n",
       "        .then(() => displayChart(vegaEmbed));\n",
       "    }\n",
       "  })({\"config\": {\"view\": {\"continuousWidth\": 400, \"continuousHeight\": 300}}, \"data\": {\"name\": \"data-8c8dca86c0fe21360035e0cf325736ba\"}, \"mark\": \"line\", \"encoding\": {\"color\": {\"type\": \"nominal\", \"field\": \"key\"}, \"x\": {\"type\": \"ordinal\", \"field\": \"factors\", \"scale\": {\"zero\": false}}, \"y\": {\"type\": \"quantitative\", \"field\": \"ndcg\", \"scale\": {\"zero\": false}}}, \"$schema\": \"https://vega.github.io/schema/vega-lite/v4.8.1.json\", \"datasets\": {\"data-8c8dca86c0fe21360035e0cf325736ba\": [{\"key\": \"gmf\", \"factors\": 8, \"ndcg\": 0.5621539856811268, \"hr\": 0.8131147540983606}, {\"key\": \"nmf\", \"factors\": 8, \"ndcg\": 0.6095248080631092, \"hr\": 0.8409836065573771}, {\"key\": \"als\", \"factors\": 8, \"ndcg\": 0.5995677729129993, \"hr\": 0.8278688524590164}, {\"key\": \"mlp\", \"factors\": 8, \"ndcg\": 0.5726383803080907, \"hr\": 0.8180327868852459}, {\"key\": \"bpr\", \"factors\": 8, \"ndcg\": 0.4573635911373037, \"hr\": 0.6836065573770492}]}}, {\"mode\": \"vega-lite\"});\n",
       "</script>"
      ],
      "text/plain": [
       "alt.Chart(...)"
      ]
     },
     "execution_count": 14,
     "metadata": {},
     "output_type": "execute_result"
    }
   ],
   "source": [
    "plot_best_stats_by_factor(results, \"ndcg\", 10)"
   ]
  },
  {
   "cell_type": "code",
   "execution_count": 15,
   "metadata": {},
   "outputs": [
    {
     "data": {
      "text/html": [
       "\n",
       "<div id=\"altair-viz-e4bd0949b2ad476387a589f4d729d79d\"></div>\n",
       "<script type=\"text/javascript\">\n",
       "  (function(spec, embedOpt){\n",
       "    let outputDiv = document.currentScript.previousElementSibling;\n",
       "    if (outputDiv.id !== \"altair-viz-e4bd0949b2ad476387a589f4d729d79d\") {\n",
       "      outputDiv = document.getElementById(\"altair-viz-e4bd0949b2ad476387a589f4d729d79d\");\n",
       "    }\n",
       "    const paths = {\n",
       "      \"vega\": \"https://cdn.jsdelivr.net/npm//vega@5?noext\",\n",
       "      \"vega-lib\": \"https://cdn.jsdelivr.net/npm//vega-lib?noext\",\n",
       "      \"vega-lite\": \"https://cdn.jsdelivr.net/npm//vega-lite@4.8.1?noext\",\n",
       "      \"vega-embed\": \"https://cdn.jsdelivr.net/npm//vega-embed@6?noext\",\n",
       "    };\n",
       "\n",
       "    function loadScript(lib) {\n",
       "      return new Promise(function(resolve, reject) {\n",
       "        var s = document.createElement('script');\n",
       "        s.src = paths[lib];\n",
       "        s.async = true;\n",
       "        s.onload = () => resolve(paths[lib]);\n",
       "        s.onerror = () => reject(`Error loading script: ${paths[lib]}`);\n",
       "        document.getElementsByTagName(\"head\")[0].appendChild(s);\n",
       "      });\n",
       "    }\n",
       "\n",
       "    function showError(err) {\n",
       "      outputDiv.innerHTML = `<div class=\"error\" style=\"color:red;\">${err}</div>`;\n",
       "      throw err;\n",
       "    }\n",
       "\n",
       "    function displayChart(vegaEmbed) {\n",
       "      vegaEmbed(outputDiv, spec, embedOpt)\n",
       "        .catch(err => showError(`Javascript Error: ${err.message}<br>This usually means there's a typo in your chart specification. See the javascript console for the full traceback.`));\n",
       "    }\n",
       "\n",
       "    if(typeof define === \"function\" && define.amd) {\n",
       "      requirejs.config({paths});\n",
       "      require([\"vega-embed\"], displayChart, err => showError(`Error loading script: ${err.message}`));\n",
       "    } else if (typeof vegaEmbed === \"function\") {\n",
       "      displayChart(vegaEmbed);\n",
       "    } else {\n",
       "      loadScript(\"vega\")\n",
       "        .then(() => loadScript(\"vega-lite\"))\n",
       "        .then(() => loadScript(\"vega-embed\"))\n",
       "        .catch(showError)\n",
       "        .then(() => displayChart(vegaEmbed));\n",
       "    }\n",
       "  })({\"config\": {\"view\": {\"continuousWidth\": 400, \"continuousHeight\": 300}}, \"data\": {\"name\": \"data-8c8dca86c0fe21360035e0cf325736ba\"}, \"mark\": \"line\", \"encoding\": {\"color\": {\"type\": \"nominal\", \"field\": \"key\"}, \"x\": {\"type\": \"ordinal\", \"field\": \"factors\", \"scale\": {\"zero\": false}}, \"y\": {\"type\": \"quantitative\", \"field\": \"hr\", \"scale\": {\"zero\": false}}}, \"$schema\": \"https://vega.github.io/schema/vega-lite/v4.8.1.json\", \"datasets\": {\"data-8c8dca86c0fe21360035e0cf325736ba\": [{\"key\": \"gmf\", \"factors\": 8, \"ndcg\": 0.5621539856811268, \"hr\": 0.8131147540983606}, {\"key\": \"nmf\", \"factors\": 8, \"ndcg\": 0.6095248080631092, \"hr\": 0.8409836065573771}, {\"key\": \"als\", \"factors\": 8, \"ndcg\": 0.5995677729129993, \"hr\": 0.8278688524590164}, {\"key\": \"mlp\", \"factors\": 8, \"ndcg\": 0.5726383803080907, \"hr\": 0.8180327868852459}, {\"key\": \"bpr\", \"factors\": 8, \"ndcg\": 0.4573635911373037, \"hr\": 0.6836065573770492}]}}, {\"mode\": \"vega-lite\"});\n",
       "</script>"
      ],
      "text/plain": [
       "alt.Chart(...)"
      ]
     },
     "execution_count": 15,
     "metadata": {},
     "output_type": "execute_result"
    }
   ],
   "source": [
    "plot_best_stats_by_factor(results, \"hr\", 10)"
   ]
  },
  {
   "cell_type": "code",
   "execution_count": null,
   "metadata": {},
   "outputs": [],
   "source": []
  },
  {
   "cell_type": "code",
   "execution_count": null,
   "metadata": {},
   "outputs": [],
   "source": []
  }
 ],
 "metadata": {
  "kernelspec": {
   "display_name": "Python 3",
   "language": "python",
   "name": "python3"
  },
  "language_info": {
   "codemirror_mode": {
    "name": "ipython",
    "version": 3
   },
   "file_extension": ".py",
   "mimetype": "text/x-python",
   "name": "python",
   "nbconvert_exporter": "python",
   "pygments_lexer": "ipython3",
   "version": "3.7.8"
  },
  "pycharm": {
   "stem_cell": {
    "cell_type": "raw",
    "metadata": {
     "collapsed": false
    },
    "source": []
   }
  }
 },
 "nbformat": 4,
 "nbformat_minor": 4
}
